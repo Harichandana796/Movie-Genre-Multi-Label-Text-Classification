{
 "cells": [
  {
   "cell_type": "markdown",
   "metadata": {
    "toc": true
   },
   "source": [
    "<h1>Table of Contents<span class=\"tocSkip\"></span></h1>\n",
    "<div class=\"toc\"><ul class=\"toc-item\"><li><span><a href=\"#INTRODUCTION\" data-toc-modified-id=\"INTRODUCTION-1\"><span class=\"toc-item-num\">1&nbsp;&nbsp;</span>INTRODUCTION</a></span><ul class=\"toc-item\"><li><span><a href=\"#Overview\" data-toc-modified-id=\"Overview-1.1\"><span class=\"toc-item-num\">1.1&nbsp;&nbsp;</span>Overview</a></span></li><li><span><a href=\"#Feature-Description\" data-toc-modified-id=\"Feature-Description-1.2\"><span class=\"toc-item-num\">1.2&nbsp;&nbsp;</span>Feature Description</a></span></li><li><span><a href=\"#Problem-Statement\" data-toc-modified-id=\"Problem-Statement-1.3\"><span class=\"toc-item-num\">1.3&nbsp;&nbsp;</span>Problem Statement</a></span></li><li><span><a href=\"#Data-Set-Overview\" data-toc-modified-id=\"Data-Set-Overview-1.4\"><span class=\"toc-item-num\">1.4&nbsp;&nbsp;</span>Data Set Overview</a></span><ul class=\"toc-item\"><li><span><a href=\"#Shape-of-the-Data\" data-toc-modified-id=\"Shape-of-the-Data-1.4.1\"><span class=\"toc-item-num\">1.4.1&nbsp;&nbsp;</span>Shape of the Data</a></span></li><li><span><a href=\"#First-Few-Observations\" data-toc-modified-id=\"First-Few-Observations-1.4.2\"><span class=\"toc-item-num\">1.4.2&nbsp;&nbsp;</span>First Few Observations</a></span></li><li><span><a href=\"#Feature-Data-Types\" data-toc-modified-id=\"Feature-Data-Types-1.4.3\"><span class=\"toc-item-num\">1.4.3&nbsp;&nbsp;</span>Feature Data Types</a></span></li></ul></li></ul></li><li><span><a href=\"#EDA\" data-toc-modified-id=\"EDA-2\"><span class=\"toc-item-num\">2&nbsp;&nbsp;</span>EDA</a></span><ul class=\"toc-item\"><li><span><a href=\"#Feature-Engineering\" data-toc-modified-id=\"Feature-Engineering-2.1\"><span class=\"toc-item-num\">2.1&nbsp;&nbsp;</span>Feature Engineering</a></span><ul class=\"toc-item\"><li><span><a href=\"#plot_lang-column\" data-toc-modified-id=\"plot_lang-column-2.1.1\"><span class=\"toc-item-num\">2.1.1&nbsp;&nbsp;</span>plot_lang column</a></span></li><li><span><a href=\"#Categorical-Columns-Conversion\" data-toc-modified-id=\"Categorical-Columns-Conversion-2.1.2\"><span class=\"toc-item-num\">2.1.2&nbsp;&nbsp;</span>Categorical Columns Conversion</a></span></li></ul></li><li><span><a href=\"#Number-of-Movies-per-Genre\" data-toc-modified-id=\"Number-of-Movies-per-Genre-2.2\"><span class=\"toc-item-num\">2.2&nbsp;&nbsp;</span>Number of Movies per Genre</a></span></li><li><span><a href=\"#Number-of-Genres-per-Movie\" data-toc-modified-id=\"Number-of-Genres-per-Movie-2.3\"><span class=\"toc-item-num\">2.3&nbsp;&nbsp;</span>Number of Genres per Movie</a></span></li></ul></li></ul></div>"
   ]
  },
  {
   "cell_type": "markdown",
   "metadata": {},
   "source": [
    "# INTRODUCTION\n",
    "\n",
    "\n",
    "## Overview\n",
    "Classifying a text document into one or the other pre-defined classes (e.g., spam or not a spam) is an example of a standard Binary Classification problem. There are other scenarios where in one would need to classify the document into more than 2 classes. This is a multi-class classification problem where a data instance is associated with only one of the many single class labels, e.g., News Topic Classifier with the possible classes as 'Food', 'Sports', 'Politics' wherein each article can fall into only one of these classes. \n",
    "\n",
    "In this project, we will look into a scenario where each document can possibly assigned to more than one class, i.e., multi-label classification. The dataset comes from IMDB contains several informations about the movie. Here, we will use the plot of the movie and find out what are all the genres it falls under. \n",
    "\n",
    "\n",
    "## Feature Description\n",
    "The data set contains just 1 column with the feature which describes the plot. The other columns corresponds to the possible 28 movie genres. These are basically our target columns. If the movie falls under a particular genre, then that particular column will indicate 1, else it will indicate 0\n",
    "\n",
    "\n",
    "## Problem Statement \n",
    "\n",
    "The goal of this project is to predict all the possible genres of the movies based on its plot. \n",
    "\n"
   ]
  },
  {
   "cell_type": "code",
   "execution_count": 2,
   "metadata": {
    "ExecuteTime": {
     "end_time": "2019-02-19T01:51:30.616247Z",
     "start_time": "2019-02-19T01:51:23.421977Z"
    }
   },
   "outputs": [],
   "source": [
    "import numpy as np\n",
    "import pandas as pd\n",
    "import matplotlib.pyplot as plt\n",
    "from matplotlib import style\n",
    "import seaborn as sns\n",
    "import missingno as msno\n",
    "\n",
    "# Ignore  the warnings\n",
    "import warnings\n",
    "warnings.filterwarnings('always')\n",
    "warnings.filterwarnings('ignore')\n",
    "\n",
    "#plt.style.use('fivethirtyeight')\n",
    "sns.set_style(\"whitegrid\")\n",
    "sns.set_context(\"talk\", font_scale=0.8)"
   ]
  },
  {
   "cell_type": "markdown",
   "metadata": {},
   "source": [
    "## Data Set Overview\n",
    "\n",
    "**Load the data**"
   ]
  },
  {
   "cell_type": "code",
   "execution_count": 3,
   "metadata": {
    "ExecuteTime": {
     "end_time": "2019-02-19T01:51:33.491901Z",
     "start_time": "2019-02-19T01:51:30.619247Z"
    }
   },
   "outputs": [],
   "source": [
    "# Read the data\n",
    "mydata = pd.read_csv('Data/movies_genres.csv', delimiter='\\t')"
   ]
  },
  {
   "cell_type": "markdown",
   "metadata": {},
   "source": [
    "### Shape of the Data"
   ]
  },
  {
   "cell_type": "code",
   "execution_count": 4,
   "metadata": {
    "ExecuteTime": {
     "end_time": "2019-02-19T01:51:33.499922Z",
     "start_time": "2019-02-19T01:51:33.493905Z"
    }
   },
   "outputs": [
    {
     "name": "stdout",
     "output_type": "stream",
     "text": [
      "Shape of data:  (117194, 30)\n"
     ]
    }
   ],
   "source": [
    "print('Shape of data: ', mydata.shape)"
   ]
  },
  {
   "cell_type": "markdown",
   "metadata": {},
   "source": [
    "The provided data consists of over 117k observations of movies along with 30 column variables. Let us take a look into what each column looks like. \n",
    "\n",
    "### First Few Observations"
   ]
  },
  {
   "cell_type": "code",
   "execution_count": 5,
   "metadata": {
    "ExecuteTime": {
     "end_time": "2019-02-19T01:51:33.605203Z",
     "start_time": "2019-02-19T01:51:33.503933Z"
    }
   },
   "outputs": [
    {
     "data": {
      "text/html": [
       "<div>\n",
       "<style scoped>\n",
       "    .dataframe tbody tr th:only-of-type {\n",
       "        vertical-align: middle;\n",
       "    }\n",
       "\n",
       "    .dataframe tbody tr th {\n",
       "        vertical-align: top;\n",
       "    }\n",
       "\n",
       "    .dataframe thead th {\n",
       "        text-align: right;\n",
       "    }\n",
       "</style>\n",
       "<table border=\"1\" class=\"dataframe\">\n",
       "  <thead>\n",
       "    <tr style=\"text-align: right;\">\n",
       "      <th></th>\n",
       "      <th>title</th>\n",
       "      <th>plot</th>\n",
       "      <th>Action</th>\n",
       "      <th>Adult</th>\n",
       "      <th>Adventure</th>\n",
       "      <th>Animation</th>\n",
       "      <th>Biography</th>\n",
       "      <th>Comedy</th>\n",
       "      <th>Crime</th>\n",
       "      <th>Documentary</th>\n",
       "      <th>...</th>\n",
       "      <th>Reality-TV</th>\n",
       "      <th>Romance</th>\n",
       "      <th>Sci-Fi</th>\n",
       "      <th>Short</th>\n",
       "      <th>Sport</th>\n",
       "      <th>Talk-Show</th>\n",
       "      <th>Thriller</th>\n",
       "      <th>War</th>\n",
       "      <th>Western</th>\n",
       "      <th>plot_lang</th>\n",
       "    </tr>\n",
       "  </thead>\n",
       "  <tbody>\n",
       "    <tr>\n",
       "      <th>0</th>\n",
       "      <td>\"#7DaysLater\" (2013)</td>\n",
       "      <td>#7dayslater is an interactive comedy series f...</td>\n",
       "      <td>0</td>\n",
       "      <td>0</td>\n",
       "      <td>0</td>\n",
       "      <td>0</td>\n",
       "      <td>0</td>\n",
       "      <td>1</td>\n",
       "      <td>0</td>\n",
       "      <td>0</td>\n",
       "      <td>...</td>\n",
       "      <td>0</td>\n",
       "      <td>0</td>\n",
       "      <td>0</td>\n",
       "      <td>0</td>\n",
       "      <td>0</td>\n",
       "      <td>0</td>\n",
       "      <td>0</td>\n",
       "      <td>0</td>\n",
       "      <td>0</td>\n",
       "      <td>en</td>\n",
       "    </tr>\n",
       "    <tr>\n",
       "      <th>1</th>\n",
       "      <td>\"#BlackLove\" (2015) {Crash the Party (#1.9)}</td>\n",
       "      <td>With just one week left in the workshops, the...</td>\n",
       "      <td>0</td>\n",
       "      <td>0</td>\n",
       "      <td>0</td>\n",
       "      <td>0</td>\n",
       "      <td>0</td>\n",
       "      <td>0</td>\n",
       "      <td>0</td>\n",
       "      <td>0</td>\n",
       "      <td>...</td>\n",
       "      <td>1</td>\n",
       "      <td>0</td>\n",
       "      <td>0</td>\n",
       "      <td>0</td>\n",
       "      <td>0</td>\n",
       "      <td>0</td>\n",
       "      <td>0</td>\n",
       "      <td>0</td>\n",
       "      <td>0</td>\n",
       "      <td>en</td>\n",
       "    </tr>\n",
       "  </tbody>\n",
       "</table>\n",
       "<p>2 rows × 30 columns</p>\n",
       "</div>"
      ],
      "text/plain": [
       "                                          title  \\\n",
       "0                          \"#7DaysLater\" (2013)   \n",
       "1  \"#BlackLove\" (2015) {Crash the Party (#1.9)}   \n",
       "\n",
       "                                                plot  Action  Adult  \\\n",
       "0   #7dayslater is an interactive comedy series f...       0      0   \n",
       "1   With just one week left in the workshops, the...       0      0   \n",
       "\n",
       "   Adventure  Animation  Biography  Comedy  Crime  Documentary    ...      \\\n",
       "0          0          0          0       1      0            0    ...       \n",
       "1          0          0          0       0      0            0    ...       \n",
       "\n",
       "   Reality-TV  Romance  Sci-Fi  Short  Sport  Talk-Show  Thriller  War  \\\n",
       "0           0        0       0      0      0          0         0    0   \n",
       "1           1        0       0      0      0          0         0    0   \n",
       "\n",
       "   Western  plot_lang  \n",
       "0        0         en  \n",
       "1        0         en  \n",
       "\n",
       "[2 rows x 30 columns]"
      ]
     },
     "execution_count": 5,
     "metadata": {},
     "output_type": "execute_result"
    }
   ],
   "source": [
    "mydata.head(2)"
   ]
  },
  {
   "cell_type": "code",
   "execution_count": 6,
   "metadata": {
    "ExecuteTime": {
     "end_time": "2019-02-19T01:51:33.628264Z",
     "start_time": "2019-02-19T01:51:33.610220Z"
    }
   },
   "outputs": [
    {
     "data": {
      "text/plain": [
       "('\"#BlackLove\" (2015) {Crash the Party (#1.9)}',\n",
       " ' With just one week left in the workshops, the women consider the idea of \"The One.\" The ladies are stunned when Jahmil finally comes to a decision about Bentley and if he\\'s the one for her. Jack challenges Tennesha to express her feelings of love towards Errol, but can she put herself out there and face possible rejection?')"
      ]
     },
     "execution_count": 6,
     "metadata": {},
     "output_type": "execute_result"
    }
   ],
   "source": [
    "mydata.loc[1, 'title'], mydata.loc[1, 'plot']"
   ]
  },
  {
   "cell_type": "markdown",
   "metadata": {},
   "source": [
    "Each observation consists of \n",
    "* A title which contains the title, the year and any tag if presetn\n",
    "* Plot containing the plot of the movie\n",
    "* 27 Movie Genres\n",
    "* Plot Language"
   ]
  },
  {
   "cell_type": "markdown",
   "metadata": {},
   "source": [
    "### Feature Data Types"
   ]
  },
  {
   "cell_type": "code",
   "execution_count": 7,
   "metadata": {
    "ExecuteTime": {
     "end_time": "2019-02-19T01:51:33.831809Z",
     "start_time": "2019-02-19T01:51:33.631272Z"
    },
    "scrolled": false
   },
   "outputs": [
    {
     "name": "stdout",
     "output_type": "stream",
     "text": [
      "<class 'pandas.core.frame.DataFrame'>\n",
      "RangeIndex: 117194 entries, 0 to 117193\n",
      "Data columns (total 30 columns):\n",
      "title          117194 non-null object\n",
      "plot           117194 non-null object\n",
      "Action         117194 non-null int64\n",
      "Adult          117194 non-null int64\n",
      "Adventure      117194 non-null int64\n",
      "Animation      117194 non-null int64\n",
      "Biography      117194 non-null int64\n",
      "Comedy         117194 non-null int64\n",
      "Crime          117194 non-null int64\n",
      "Documentary    117194 non-null int64\n",
      "Drama          117194 non-null int64\n",
      "Family         117194 non-null int64\n",
      "Fantasy        117194 non-null int64\n",
      "Game-Show      117194 non-null int64\n",
      "History        117194 non-null int64\n",
      "Horror         117194 non-null int64\n",
      "Music          117194 non-null int64\n",
      "Musical        117194 non-null int64\n",
      "Mystery        117194 non-null int64\n",
      "News           117194 non-null int64\n",
      "Reality-TV     117194 non-null int64\n",
      "Romance        117194 non-null int64\n",
      "Sci-Fi         117194 non-null int64\n",
      "Short          117194 non-null int64\n",
      "Sport          117194 non-null int64\n",
      "Talk-Show      117194 non-null int64\n",
      "Thriller       117194 non-null int64\n",
      "War            117194 non-null int64\n",
      "Western        117194 non-null int64\n",
      "plot_lang      117194 non-null object\n",
      "dtypes: int64(27), object(3)\n",
      "memory usage: 26.8+ MB\n"
     ]
    }
   ],
   "source": [
    "mydata.info()"
   ]
  },
  {
   "cell_type": "markdown",
   "metadata": {},
   "source": [
    "* There are no missing values\n",
    "* All the Movie Genre columns have int data type. They have to be converted to categories."
   ]
  },
  {
   "cell_type": "markdown",
   "metadata": {},
   "source": [
    "# EDA\n",
    "\n",
    "## Feature Engineering\n",
    "\n",
    "### plot_lang column"
   ]
  },
  {
   "cell_type": "code",
   "execution_count": 8,
   "metadata": {
    "ExecuteTime": {
     "end_time": "2019-02-19T01:51:33.880965Z",
     "start_time": "2019-02-19T01:51:33.834814Z"
    }
   },
   "outputs": [
    {
     "data": {
      "text/plain": [
       "count     117194\n",
       "unique         1\n",
       "top           en\n",
       "freq      117194\n",
       "Name: plot_lang, dtype: object"
      ]
     },
     "execution_count": 8,
     "metadata": {},
     "output_type": "execute_result"
    }
   ],
   "source": [
    "mydata.plot_lang.describe()"
   ]
  },
  {
   "cell_type": "markdown",
   "metadata": {
    "ExecuteTime": {
     "end_time": "2019-02-17T05:42:40.178064Z",
     "start_time": "2019-02-17T05:42:40.172050Z"
    }
   },
   "source": [
    "From the above, we see that all the movies provided have plots in english language. Hence, let us drop this column"
   ]
  },
  {
   "cell_type": "code",
   "execution_count": 9,
   "metadata": {
    "ExecuteTime": {
     "end_time": "2019-02-19T01:51:33.917035Z",
     "start_time": "2019-02-19T01:51:33.884949Z"
    }
   },
   "outputs": [],
   "source": [
    "mydata = mydata.drop('plot_lang', axis=1)"
   ]
  },
  {
   "cell_type": "markdown",
   "metadata": {},
   "source": [
    "### Categorical Columns Conversion"
   ]
  },
  {
   "cell_type": "code",
   "execution_count": 10,
   "metadata": {
    "ExecuteTime": {
     "end_time": "2019-02-19T01:51:34.377261Z",
     "start_time": "2019-02-19T01:51:33.921044Z"
    }
   },
   "outputs": [],
   "source": [
    "category_columns = mydata.columns.drop(['title', 'plot'])\n",
    "for col in category_columns:\n",
    "    mydata[col] = mydata[col].astype('category')"
   ]
  },
  {
   "cell_type": "markdown",
   "metadata": {},
   "source": [
    "## Number of Movies per Genre"
   ]
  },
  {
   "cell_type": "code",
   "execution_count": 17,
   "metadata": {
    "ExecuteTime": {
     "end_time": "2019-02-19T05:58:10.919493Z",
     "start_time": "2019-02-19T05:58:10.477330Z"
    },
    "scrolled": false
   },
   "outputs": [],
   "source": [
    "sum_genre = mydata[category_columns].sum()\n",
    "df_movies_per_genre = pd.DataFrame({'Genre':category_columns, 'Total': sum_genre})"
   ]
  },
  {
   "cell_type": "code",
   "execution_count": 55,
   "metadata": {
    "ExecuteTime": {
     "end_time": "2019-02-19T06:44:02.542670Z",
     "start_time": "2019-02-19T06:44:01.984186Z"
    }
   },
   "outputs": [
    {
     "data": {
      "image/png": "[encoded data removed]",
      "text/plain": [
       "<Figure size 1080x720 with 1 Axes>"
      ]
     },
     "metadata": {
      "needs_background": "light"
     },
     "output_type": "display_data"
    }
   ],
   "source": [
    "f, ax = plt.subplots(1, 1, figsize=(15, 10))\n",
    "sns.barplot(data=df_movies_per_genre, x='Genre', y='Total', axes=ax)\n",
    "ax.set(yscale='log', ylim=(1, 1e5))\n",
    "plt.xticks(rotation=90)\n",
    "plt.show()"
   ]
  },
  {
   "cell_type": "code",
   "execution_count": 23,
   "metadata": {
    "ExecuteTime": {
     "end_time": "2019-02-19T06:00:44.847138Z",
     "start_time": "2019-02-19T06:00:44.843127Z"
    }
   },
   "outputs": [
    {
     "name": "stdout",
     "output_type": "stream",
     "text": [
      "Number of Adult Movies:  61.0\n"
     ]
    }
   ],
   "source": [
    "print('Number of Adult Movies: ', df_movies_per_genre.loc['Adult', 'Total'])"
   ]
  },
  {
   "cell_type": "markdown",
   "metadata": {},
   "source": [
    "## Number of Genres per Movie"
   ]
  },
  {
   "cell_type": "code",
   "execution_count": 57,
   "metadata": {
    "ExecuteTime": {
     "end_time": "2019-02-19T06:46:40.759213Z",
     "start_time": "2019-02-19T06:46:39.550035Z"
    }
   },
   "outputs": [
    {
     "data": {
      "image/png": "[encoded data removed]",
      "text/plain": [
       "<Figure size 1080x720 with 1 Axes>"
      ]
     },
     "metadata": {
      "needs_background": "light"
     },
     "output_type": "display_data"
    }
   ],
   "source": [
    "sum_movie = mydata[category_columns].sum(axis=1)\n",
    "df_genres_per_movie = pd.DataFrame({'title': mydata.title, 'num_genres':sum_movie}).groupby('num_genres').count()\n",
    "f, ax = plt.subplots(1, 1, figsize=(15, 10))\n",
    "sns.barplot(data=df_genres_per_movie, x=df_genres_per_movie.index, y='title', axes=ax)\n",
    "ax.set(yscale='log', ylim=(1, 1e5), xlabel='Number of Genres for a Movie', ylabel='Number of Movies')\n",
    "plt.xticks(rotation=90)\n",
    "plt.show()"
   ]
  },
  {
   "cell_type": "code",
   "execution_count": null,
   "metadata": {},
   "outputs": [],
   "source": []
  },
  {
   "cell_type": "code",
   "execution_count": null,
   "metadata": {},
   "outputs": [],
   "source": []
  },
  {
   "cell_type": "code",
   "execution_count": null,
   "metadata": {},
   "outputs": [],
   "source": []
  },
  {
   "cell_type": "code",
   "execution_count": null,
   "metadata": {},
   "outputs": [],
   "source": []
  },
  {
   "cell_type": "code",
   "execution_count": null,
   "metadata": {},
   "outputs": [],
   "source": []
  },
  {
   "cell_type": "code",
   "execution_count": null,
   "metadata": {},
   "outputs": [],
   "source": []
  },
  {
   "cell_type": "code",
   "execution_count": null,
   "metadata": {},
   "outputs": [],
   "source": []
  },
  {
   "cell_type": "code",
   "execution_count": null,
   "metadata": {},
   "outputs": [],
   "source": []
  },
  {
   "cell_type": "code",
   "execution_count": null,
   "metadata": {},
   "outputs": [],
   "source": []
  },
  {
   "cell_type": "code",
   "execution_count": null,
   "metadata": {},
   "outputs": [],
   "source": []
  },
  {
   "cell_type": "code",
   "execution_count": null,
   "metadata": {},
   "outputs": [],
   "source": []
  },
  {
   "cell_type": "code",
   "execution_count": null,
   "metadata": {},
   "outputs": [],
   "source": []
  },
  {
   "cell_type": "code",
   "execution_count": null,
   "metadata": {},
   "outputs": [],
   "source": []
  },
  {
   "cell_type": "code",
   "execution_count": null,
   "metadata": {},
   "outputs": [],
   "source": []
  },
  {
   "cell_type": "code",
   "execution_count": null,
   "metadata": {},
   "outputs": [],
   "source": []
  },
  {
   "cell_type": "code",
   "execution_count": null,
   "metadata": {},
   "outputs": [],
   "source": []
  },
  {
   "cell_type": "code",
   "execution_count": null,
   "metadata": {},
   "outputs": [],
   "source": []
  },
  {
   "cell_type": "code",
   "execution_count": null,
   "metadata": {},
   "outputs": [],
   "source": []
  }
 ],
 "metadata": {
  "kernelspec": {
   "display_name": "Python 3",
   "language": "python",
   "name": "python3"
  },
  "language_info": {
   "codemirror_mode": {
    "name": "ipython",
    "version": 3
   },
   "file_extension": ".py",
   "mimetype": "text/x-python",
   "name": "python",
   "nbconvert_exporter": "python",
   "pygments_lexer": "ipython3",
   "version": "3.7.0"
  },
  "toc": {
   "base_numbering": 1,
   "nav_menu": {},
   "number_sections": true,
   "sideBar": true,
   "skip_h1_title": false,
   "title_cell": "Table of Contents",
   "title_sidebar": "Contents",
   "toc_cell": true,
   "toc_position": {
    "height": "calc(100% - 180px)",
    "left": "10px",
    "top": "150px",
    "width": "273px"
   },
   "toc_section_display": true,
   "toc_window_display": true
  }
 },
 "nbformat": 4,
 "nbformat_minor": 2
}
