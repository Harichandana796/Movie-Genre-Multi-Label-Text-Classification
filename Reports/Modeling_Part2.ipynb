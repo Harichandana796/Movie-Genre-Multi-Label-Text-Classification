{
 "cells": [
  {
   "cell_type": "markdown",
   "metadata": {
    "toc": true
   },
   "source": [
    "<h1>Table of Contents<span class=\"tocSkip\"></span></h1>\n",
    "<div class=\"toc\"><ul class=\"toc-item\"><li><span><a href=\"#MODELING\" data-toc-modified-id=\"MODELING-1\"><span class=\"toc-item-num\">1&nbsp;&nbsp;</span>MODELING</a></span><ul class=\"toc-item\"><li><span><a href=\"#Test-Train-Split\" data-toc-modified-id=\"Test-Train-Split-1.1\"><span class=\"toc-item-num\">1.1&nbsp;&nbsp;</span>Test-Train Split</a></span><ul class=\"toc-item\"><li><span><a href=\"#Checking-Trian-Test-Composition\" data-toc-modified-id=\"Checking-Trian-Test-Composition-1.1.1\"><span class=\"toc-item-num\">1.1.1&nbsp;&nbsp;</span>Checking Trian-Test Composition</a></span></li><li><span><a href=\"#Splitting-to-Input-X-and-Output-y\" data-toc-modified-id=\"Splitting-to-Input-X-and-Output-y-1.1.2\"><span class=\"toc-item-num\">1.1.2&nbsp;&nbsp;</span>Splitting to Input X and Output y</a></span></li></ul></li><li><span><a href=\"#Relevant-Function-Definitions\" data-toc-modified-id=\"Relevant-Function-Definitions-1.2\"><span class=\"toc-item-num\">1.2&nbsp;&nbsp;</span>Relevant Function Definitions</a></span><ul class=\"toc-item\"><li><span><a href=\"#Scoring-Functions\" data-toc-modified-id=\"Scoring-Functions-1.2.1\"><span class=\"toc-item-num\">1.2.1&nbsp;&nbsp;</span>Scoring Functions</a></span></li><li><span><a href=\"#Get-Top-Features\" data-toc-modified-id=\"Get-Top-Features-1.2.2\"><span class=\"toc-item-num\">1.2.2&nbsp;&nbsp;</span>Get Top Features</a></span></li><li><span><a href=\"#Multi-label-Predict\" data-toc-modified-id=\"Multi-label-Predict-1.2.3\"><span class=\"toc-item-num\">1.2.3&nbsp;&nbsp;</span>Multi-label Predict</a></span></li><li><span><a href=\"#Analyze-a-Single-Movie-Plot\" data-toc-modified-id=\"Analyze-a-Single-Movie-Plot-1.2.4\"><span class=\"toc-item-num\">1.2.4&nbsp;&nbsp;</span>Analyze a Single Movie Plot</a></span></li></ul></li></ul></li></ul></div>"
   ]
  },
  {
   "cell_type": "code",
   "execution_count": 1,
   "metadata": {
    "ExecuteTime": {
     "end_time": "2019-03-07T07:35:37.654490Z",
     "start_time": "2019-03-07T07:35:28.888340Z"
    },
    "scrolled": true
   },
   "outputs": [
    {
     "name": "stderr",
     "output_type": "stream",
     "text": [
      "C:\\Users\\smaiya\\AppData\\Local\\Continuum\\anaconda3\\lib\\site-packages\\sklearn\\cross_validation.py:41: DeprecationWarning: This module was deprecated in version 0.18 in favor of the model_selection module into which all the refactored classes and functions are moved. Also note that the interface of the new CV iterators are different from that of this module. This module will be removed in 0.20.\n",
      "  \"This module will be removed in 0.20.\", DeprecationWarning)\n",
      "C:\\Users\\smaiya\\AppData\\Local\\Continuum\\anaconda3\\lib\\site-packages\\sklearn\\ensemble\\weight_boosting.py:29: DeprecationWarning: numpy.core.umath_tests is an internal NumPy module and should not be imported. It will be removed in a future NumPy release.\n",
      "  from numpy.core.umath_tests import inner1d\n",
      "WARNING: Logging before flag parsing goes to stderr.\n",
      "W0306 23:35:36.771159  6716 __init__.py:56] Some hub symbols are not available because TensorFlow version is less than 1.14\n"
     ]
    },
    {
     "name": "stdout",
     "output_type": "stream",
     "text": [
      "[nltk_data] Downloading package stopwords to\n",
      "[nltk_data]     C:\\Users\\smaiya\\AppData\\Roaming\\nltk_data...\n",
      "[nltk_data]   Package stopwords is already up-to-date!\n",
      "[nltk_data] Downloading package wordnet to\n",
      "[nltk_data]     C:\\Users\\smaiya\\AppData\\Roaming\\nltk_data...\n",
      "[nltk_data]   Package wordnet is already up-to-date!\n"
     ]
    }
   ],
   "source": [
    "# Ignore  the warnings\n",
    "import warnings\n",
    "warnings.filterwarnings('always')\n",
    "warnings.filterwarnings('ignore')\n",
    "\n",
    "import numpy as np\n",
    "import pandas as pd\n",
    "import matplotlib.pyplot as plt\n",
    "from matplotlib import style\n",
    "import seaborn as sns\n",
    "import missingno as msno\n",
    "import re\n",
    "import os.path\n",
    "import math\n",
    "from sklearn.model_selection import StratifiedShuffleSplit\n",
    "from sklearn.cross_validation import KFold\n",
    "from sklearn.naive_bayes import MultinomialNB\n",
    "from sklearn.pipeline import Pipeline\n",
    "from sklearn.svm import LinearSVC\n",
    "from sklearn.svm import SVC\n",
    "from sklearn.multiclass import OneVsRestClassifier\n",
    "from sklearn.metrics import classification_report\n",
    "from sklearn.model_selection import GridSearchCV\n",
    "from scipy import sparse\n",
    "from sklearn.metrics import make_scorer\n",
    "from sklearn.metrics import f1_score\n",
    "from sklearn.linear_model import LogisticRegression\n",
    "from skmultilearn.problem_transform import LabelPowerset\n",
    "from sklearn.cluster import KMeans\n",
    "from sklearn.decomposition import PCA\n",
    "from sklearn.ensemble import RandomForestClassifier\n",
    "import tensorflow as tf\n",
    "import tensorflow_hub as hub\n",
    "\n",
    "\n",
    "import nltk\n",
    "from wordcloud import WordCloud\n",
    "from nltk.stem.snowball import SnowballStemmer\n",
    "from nltk.stem import WordNetLemmatizer\n",
    "from nltk.corpus import stopwords\n",
    "import unicodedata\n",
    "\n",
    "from sklearn.feature_extraction.text import TfidfVectorizer\n",
    "from sklearn.feature_extraction.text import CountVectorizer\n",
    "\n",
    "nltk.download('stopwords')\n",
    "nltk.download('wordnet')\n",
    "\n",
    "#plt.style.use('fivethirtyeight')\n",
    "sns.set_style(\"whitegrid\")\n",
    "sns.set_context(\"talk\", font_scale=0.8)\n"
   ]
  },
  {
   "cell_type": "markdown",
   "metadata": {},
   "source": [
    "# MODELING"
   ]
  },
  {
   "cell_type": "code",
   "execution_count": 78,
   "metadata": {
    "ExecuteTime": {
     "end_time": "2019-03-07T00:38:15.153684Z",
     "start_time": "2019-03-07T00:38:11.673478Z"
    }
   },
   "outputs": [],
   "source": [
    "# Read the data\n",
    "preprocessed_data = False\n",
    "if os.path.exists('../Data/preprocessed/movies_genres_preprocessed.csv'):\n",
    "    mydata = pd.read_csv('../Data/preprocessed/movies_genres_preprocessed.csv')\n",
    "    preprocessed_data = True\n",
    "else:\n",
    "    mydata = pd.read_csv('../Data/movies_genres.csv', delimiter='\\t')\n",
    "    \n",
    "category_columns = mydata.columns.drop(['title', 'plot', 'plot_lang'])\n",
    "for col in category_columns:\n",
    "    mydata[col] = mydata[col].astype('category')"
   ]
  },
  {
   "cell_type": "markdown",
   "metadata": {},
   "source": [
    "## Test-Train Split\n",
    "Now let us first split the provided data into a train and test sets. This is a multi-label data set with highly imbalanced labels (Adult having just 61 samples and Drama with >45000 samples). In the below function `multi_label_train_test_split`, we split the provided data set ensuring that both the data sets have a minimum fraction of every labels. The minimum fraction is provided as an input parameter. We loop through each category and include `min_test_size` fraction of that category into the test data set. Clearly at the end of the loop, the number of occurence of each category will be greater than the `min_test_size` fraction since most movies that are being included into the test set as a particular genre also are categorized with other genres. \n",
    "\n",
    "We can further optimize the below function to ensure that more even distribution of movies into train and test data set; however, that is not really the aim of this project. Hence we will just stick to this simplified version. "
   ]
  },
  {
   "cell_type": "code",
   "execution_count": 79,
   "metadata": {
    "ExecuteTime": {
     "end_time": "2019-03-07T00:38:15.168724Z",
     "start_time": "2019-03-07T00:38:15.157697Z"
    }
   },
   "outputs": [],
   "source": [
    "def multi_label_train_test_split(data, labels, min_test_size=0.15, shuffle=True, random_state=29):\n",
    "    data_size = data.shape[0]\n",
    "    \n",
    "    # data_test_idx holds the test indices corresponding to the original data DataFrame\n",
    "    data_test_idx = np.array([False]*data_size)\n",
    "    \n",
    "    n_folds = math.floor(1/min_test_size)\n",
    "    data_train, data_test = pd.DataFrame(), pd.DataFrame()\n",
    "    for col in labels:\n",
    "        # Extracting the current genre plots\n",
    "        data_curr_genre = data[data[col]==1]\n",
    "        \n",
    "        curr_genre_size = data_curr_genre.shape[0]\n",
    "        curr_test_size = math.ceil(curr_genre_size*min_test_size)\n",
    "        \n",
    "        # Using KFold to get the test_idx for the current genre\n",
    "        curr_genre_test_idx = np.array([False]*curr_genre_size)\n",
    "        kf = KFold(curr_genre_size, n_folds=n_folds, shuffle=shuffle, random_state=random_state)\n",
    "        # Using the first fold values for the test indices for the current genre\n",
    "        curr_genre_test_idx[kf.idxs[0:curr_test_size]]=True\n",
    "        \n",
    "        # Mapping the test indices in the data_curr_genre back to the original data DataFrame\n",
    "        data_test_idx[data_curr_genre[curr_genre_test_idx].index]=True\n",
    "    \n",
    "    data_test = data[data_test_idx]\n",
    "    data_train = data[~data_test_idx]\n",
    "    return data_train, data_test"
   ]
  },
  {
   "cell_type": "markdown",
   "metadata": {},
   "source": [
    "**Preprocessing the training and testing data sets separately**"
   ]
  },
  {
   "cell_type": "code",
   "execution_count": 80,
   "metadata": {
    "ExecuteTime": {
     "end_time": "2019-03-07T00:38:17.947087Z",
     "start_time": "2019-03-07T00:38:15.172735Z"
    }
   },
   "outputs": [],
   "source": [
    "if os.path.exists('./../Data/preprocessed/movies_genres_train_preprocessed.csv') and os.path.exists('./../Data/preprocessed/movies_genres_test_preprocessed.csv'):\n",
    "    mydata_train = pd.read_csv('./../Data/preprocessed/movies_genres_train_preprocessed.csv')\n",
    "    mydata_test = pd.read_csv('./../Data/preprocessed/movies_genres_test_preprocessed.csv')\n",
    "else:\n",
    "    mydata_raw = pd.read_csv('./../Data/movies_genres.csv', delimiter='\\t')\n",
    "    min_test_size = 0.1\n",
    "    mydata_train, mydata_test = multi_label_train_test_split(mydata_raw, category_columns, min_test_size=min_test_size)\n",
    "    \n",
    "    mydata_train['plot'] = mydata_train['plot'].apply(text_preprocess)\n",
    "    mydata_train.to_csv('./../Data/preprocessed/movies_genres_train_preprocessed.csv', index=False)\n",
    "    \n",
    "    mydata_test['plot'] = mydata_test['plot'].apply(text_preprocess)\n",
    "    mydata_test.to_csv('./../Data/preprocessed/movies_genres_test_preprocessed.csv', index=False)"
   ]
  },
  {
   "cell_type": "markdown",
   "metadata": {},
   "source": [
    "### Checking Trian-Test Composition\n",
    "\n",
    "Let us check the composition of train and test data set to ensure each label occur with reasonable fraction in both these data sets. The test dataset considered has ~0.2 of the entire dataset. "
   ]
  },
  {
   "cell_type": "code",
   "execution_count": 81,
   "metadata": {
    "ExecuteTime": {
     "end_time": "2019-03-07T00:38:17.957110Z",
     "start_time": "2019-03-07T00:38:17.951096Z"
    },
    "scrolled": true
   },
   "outputs": [
    {
     "name": "stdout",
     "output_type": "stream",
     "text": [
      "Fraction of data in the Training Data Set: 0.195\n"
     ]
    }
   ],
   "source": [
    "print('Fraction of data in the Training Data Set: {0:.3f}'.format(mydata_test.shape[0]/mydata.shape[0]))"
   ]
  },
  {
   "cell_type": "markdown",
   "metadata": {},
   "source": [
    "Looking at each of the datasets to see how many movies of each genres are present"
   ]
  },
  {
   "cell_type": "code",
   "execution_count": 82,
   "metadata": {
    "ExecuteTime": {
     "end_time": "2019-03-07T00:38:18.604825Z",
     "start_time": "2019-03-07T00:38:17.961122Z"
    },
    "scrolled": false
   },
   "outputs": [],
   "source": [
    "sum_genre = mydata[category_columns].sum()\n",
    "sum_genre_train = mydata_train[category_columns].sum()\n",
    "sum_genre_test = mydata_test[category_columns].sum()\n",
    "df_movies_per_genre_1 = pd.DataFrame({'Genre':category_columns, 'Total': sum_genre_train/sum_genre, 'Data Set': 'Train'})\n",
    "df_movies_per_genre_2 = pd.DataFrame({'Genre':category_columns, 'Total': sum_genre_test/sum_genre, 'Data Set': 'Test'})\n",
    "df_movies_per_genre = pd.concat([df_movies_per_genre_1, df_movies_per_genre_2])"
   ]
  },
  {
   "cell_type": "code",
   "execution_count": 83,
   "metadata": {
    "ExecuteTime": {
     "end_time": "2019-03-07T00:38:19.611489Z",
     "start_time": "2019-03-07T00:38:18.606835Z"
    }
   },
   "outputs": [
    {
     "data": {
      "image/png": "[encoded data removed]",
      "text/plain": [
       "<Figure size 1440x720 with 1 Axes>"
      ]
     },
     "metadata": {},
     "output_type": "display_data"
    }
   ],
   "source": [
    "f, ax = plt.subplots(1, 1, figsize=(20, 10))\n",
    "sns.barplot(data=df_movies_per_genre, x='Genre', y='Total', hue='Data Set', axes=ax)\n",
    "ax.set(ylabel='Normalized Number of Movies in that Genre', xlabel='')\n",
    "ax.set(title='Fraction of the number of movies of each Genre in Train and Test Sets')\n",
    "plt.xticks(rotation=90)\n",
    "plt.show()"
   ]
  },
  {
   "cell_type": "markdown",
   "metadata": {},
   "source": [
    "**Observations**  \n",
    "* For every category, we have at least 60% of the samples in the training data set and at least 15% of the samples in the test data set which seems good for our purpose"
   ]
  },
  {
   "cell_type": "markdown",
   "metadata": {},
   "source": [
    "### Splitting to Input X and Output y"
   ]
  },
  {
   "cell_type": "code",
   "execution_count": 84,
   "metadata": {
    "ExecuteTime": {
     "end_time": "2019-03-07T00:38:19.660617Z",
     "start_time": "2019-03-07T00:38:19.613494Z"
    }
   },
   "outputs": [],
   "source": [
    "train_X, train_y = mydata_train['plot'], mydata_train.drop(['title', 'plot', 'plot_lang'], axis=1)\n",
    "test_X, test_y = mydata_test['plot'], mydata_test.drop(['title', 'plot', 'plot_lang'], axis=1)"
   ]
  },
  {
   "cell_type": "markdown",
   "metadata": {},
   "source": [
    "## Relevant Function Definitions"
   ]
  },
  {
   "cell_type": "markdown",
   "metadata": {},
   "source": [
    "### Scoring Functions"
   ]
  },
  {
   "cell_type": "code",
   "execution_count": 85,
   "metadata": {
    "ExecuteTime": {
     "end_time": "2019-03-07T00:38:19.697716Z",
     "start_time": "2019-03-07T00:38:19.663625Z"
    }
   },
   "outputs": [],
   "source": [
    "def accuracy(y_actual, y_predict):\n",
    "    result = pd.DataFrame(columns=['Precision', 'Recall', 'F1-Score', 'Support'])\n",
    "    tp, fp, fn, total = 0, 0, 0, 0\n",
    "    if not isinstance(y_predict, pd.DataFrame):\n",
    "        y_predict = pd.DataFrame(y_predict, columns=y_actual.columns)\n",
    "    for col in y_actual.columns:\n",
    "        support = y_actual[col].sum()\n",
    "        tp = ((y_actual[col]==1) & (y_predict[col]==1)).sum()\n",
    "        fp = ((y_actual[col]==0) & (y_predict[col]==1)).sum()\n",
    "        fn = ((y_actual[col]==1) & (y_predict[col]==0)).sum()\n",
    "        \n",
    "        precision = 0 if (tp+fp==0) else tp/(tp+fp)\n",
    "        recall = 0 if (tp+fn==0) else tp/(tp+fn)\n",
    "        f1_score = 0 if (precision==0 and recall==0) else 2*precision*recall/(precision+recall)\n",
    "        \n",
    "        result.loc[col] = [precision, recall, f1_score, support]\n",
    "    \n",
    "    avg_precision = (result['Precision']*result['Support']).sum()/result['Support'].sum()\n",
    "    avg_recall = (result['Recall']*result['Support']).sum()/result['Support'].sum()\n",
    "    avg_f1_score = (result['F1-Score']*result['Support']).sum()/result['Support'].sum()\n",
    "    result.loc['Avg/Total'] = [avg_precision, avg_recall, avg_f1_score, result['Support'].sum()]\n",
    "    \n",
    "    return round(result, 2)"
   ]
  },
  {
   "cell_type": "code",
   "execution_count": 99,
   "metadata": {
    "ExecuteTime": {
     "end_time": "2019-03-07T01:21:38.777289Z",
     "start_time": "2019-03-07T01:21:38.771274Z"
    }
   },
   "outputs": [],
   "source": [
    "def overall_f1_score_v1(y_actual, y_predict):\n",
    "    tp, fp, fn = 0, 0, 0\n",
    "    for idx, col in enumerate(category_columns):\n",
    "        tp+=((y_actual[col]==1) & (y_predict[:,idx]==1)).sum()\n",
    "        fp+=((y_actual[col]==0) & (y_predict[:,idx]==1)).sum()\n",
    "        fn+=((y_actual[col]==1) & (y_predict[:,idx]==0)).sum()\n",
    "    precision = tp/(tp+fp)\n",
    "    recall = tp/(tp+fn)\n",
    "    f1_score = 2*precision*recall/(precision+recall)\n",
    "    return f1_score\n",
    "\n",
    "overall_f1_score_v1_cv = make_scorer(overall_f1_score_v1, greater_is_better=True)"
   ]
  },
  {
   "cell_type": "code",
   "execution_count": 96,
   "metadata": {
    "ExecuteTime": {
     "end_time": "2019-03-07T01:17:36.720121Z",
     "start_time": "2019-03-07T01:17:36.710099Z"
    }
   },
   "outputs": [],
   "source": [
    "def overall_f1_score_v2(y_actual, y_predict):\n",
    "    # cluster_center must contain the label to genre combination mapping! \n",
    "    y_actual_matrix = np.empty((y_actual.shape[0], len(category_columns)))\n",
    "    y_predict_matrix = np.empty((y_actual.shape[0], len(category_columns)))\n",
    "    \n",
    "    num_class = cluster_center.shape[0]\n",
    "    for idx in range(num_class):\n",
    "        if idx in y_predict:\n",
    "            y_predict_matrix[y_predict==idx,:] = cluster_center.loc[idx,:].values\n",
    "        if idx in y_actual:\n",
    "            y_actual_matrix[y_actual==idx,:] = cluster_center.loc[idx,:].values \n",
    "    \n",
    "    tp, fp, fn = 0, 0, 0\n",
    "    for idx in range(len(category_columns)):\n",
    "        tp+=((y_actual_matrix[:,idx]==1) & (y_predict_matrix[:,idx]==1)).sum()\n",
    "        fp+=((y_actual_matrix[:,idx]==0) & (y_predict_matrix[:,idx]==1)).sum()\n",
    "        fn+=((y_actual_matrix[:,idx]==1) & (y_predict_matrix[:,idx]==0)).sum()\n",
    "    precision = tp/(tp+fp)\n",
    "    recall = tp/(tp+fn)\n",
    "    f1_score = 2*precision*recall/(precision+recall)\n",
    "    return f1_score\n",
    "\n",
    "overall_f1_score_v2_cv = make_scorer(overall_f1_score_v2, greater_is_better=True)"
   ]
  },
  {
   "cell_type": "markdown",
   "metadata": {},
   "source": [
    "### Get Top Features "
   ]
  },
  {
   "cell_type": "code",
   "execution_count": 87,
   "metadata": {
    "ExecuteTime": {
     "end_time": "2019-03-07T00:38:19.775927Z",
     "start_time": "2019-03-07T00:38:19.740829Z"
    }
   },
   "outputs": [],
   "source": [
    "def get_features_tfidf(pipeline, labels, num_features=10, prob_only=False):\n",
    "    tfidf_vectorizer = pipeline.get_params()['tfidf']\n",
    "    clf = pipeline.get_params()['clf']\n",
    "    words = np.array(tfidf_vectorizer.get_feature_names())\n",
    "    x=sparse.identity(words.shape[0])\n",
    "    if num_features<=0:\n",
    "        num_features = words.shape[0]\n",
    "    probs = clf.predict_proba(x)\n",
    "    feature_id = ['P{0}'.format(i) for i in range(1, num_features+1)]\n",
    "    df_good_features = pd.DataFrame(columns=feature_id)\n",
    "    for col in labels:\n",
    "        ind = np.argsort(probs[:,list(category_columns).index(col)])\n",
    "        \n",
    "        good_prob = probs[ind[-num_features:], list(category_columns).index(col)]\n",
    "        if prob_only:\n",
    "            good_list = good_prob\n",
    "        else:\n",
    "            good_words = words[ind[-num_features:]]\n",
    "            good_list = ['{0} (p={1:.2f})'.format(w, p) for w, p in zip(good_words, good_prob)]\n",
    "        \n",
    "        df_good_features.loc[col,:] = good_list[::-1]\n",
    "    return df_good_features"
   ]
  },
  {
   "cell_type": "markdown",
   "metadata": {},
   "source": [
    "### Multi-label Predict"
   ]
  },
  {
   "cell_type": "code",
   "execution_count": 88,
   "metadata": {
    "ExecuteTime": {
     "end_time": "2019-03-07T00:38:19.809010Z",
     "start_time": "2019-03-07T00:38:19.778931Z"
    }
   },
   "outputs": [],
   "source": [
    "def get_prob_thresh(thresh_sel=1, thresh_offset=0):\n",
    "    prob_thresh=[]\n",
    "    if thresh_sel==1:\n",
    "        prob_thresh = [0.5] * len(category_columns)\n",
    "    elif thresh_sel==2:\n",
    "        sum_genre = mydata[category_columns].sum()\n",
    "        prob_thresh = (sum_genre/mydata.shape[0]+thresh_offset).clip(upper=0.5)\n",
    "    return prob_thresh"
   ]
  },
  {
   "cell_type": "code",
   "execution_count": 89,
   "metadata": {
    "ExecuteTime": {
     "end_time": "2019-03-07T00:38:19.840092Z",
     "start_time": "2019-03-07T00:38:19.812018Z"
    }
   },
   "outputs": [],
   "source": [
    "def multi_label_predict(clf, X_test, thresh_sel=1, thresh_offset=0):\n",
    "    prob_thresh = get_prob_thresh(thresh_sel, thresh_offset)\n",
    "    y_pred = pd.DataFrame(columns=category_columns)\n",
    "    \n",
    "    prob = clf.predict_proba(X_test)\n",
    "    for idx, col in enumerate(y_pred):\n",
    "        y_pred[col] = prob[:,idx]>prob_thresh[idx]\n",
    "    prob = pd.DataFrame(prob, columns=category_columns)\n",
    "    return prob, y_pred"
   ]
  },
  {
   "cell_type": "code",
   "execution_count": 90,
   "metadata": {
    "ExecuteTime": {
     "end_time": "2019-03-07T00:38:19.875187Z",
     "start_time": "2019-03-07T00:38:19.843101Z"
    }
   },
   "outputs": [],
   "source": [
    "def multi_class_predict(clf, X_test, class_to_genre_map):\n",
    "    y_pred = pd.DataFrame(index=test_X.index, columns=category_columns)\n",
    "    \n",
    "    num_class = class_to_genre_map.shape[0]\n",
    "    y_class = clf.predict(X_test)\n",
    "    for idx in range(num_class):\n",
    "        if idx in y_class:\n",
    "            y_pred.loc[y_class==idx,:] = class_to_genre_map.loc[idx,:].values\n",
    "    return y_pred"
   ]
  },
  {
   "cell_type": "markdown",
   "metadata": {},
   "source": [
    "### Analyze a Single Movie Plot"
   ]
  },
  {
   "cell_type": "code",
   "execution_count": 1,
   "metadata": {
    "ExecuteTime": {
     "end_time": "2019-03-07T07:19:24.560632Z",
     "start_time": "2019-03-07T07:19:24.549604Z"
    }
   },
   "outputs": [],
   "source": [
    "def analyze_plot_genre(pipeline, plot, genre):\n",
    "    plot = pd.Series(plot.split())\n",
    "    \n",
    "    tfidf_vectorizer = pipeline.get_params()['tfidf']\n",
    "    clf = pipeline.get_params()['clf']\n",
    "    words = np.array(tfidf_vectorizer.get_feature_names())\n",
    "    x=sparse.identity(words.shape[0])\n",
    "    \n",
    "    probs = pipeline.predict_proba(plot)\n",
    "    \n",
    "    result = pd.DataFrame(columns=['word']+genre)\n",
    "    result['word'] = plot\n",
    "    for col in genre:\n",
    "        result[col] = probs[:, list(category_columns).index(col)]\n",
    "    \n",
    "    return result"
   ]
  },
  {
   "cell_type": "code",
   "execution_count": null,
   "metadata": {},
   "outputs": [],
   "source": []
  },
  {
   "cell_type": "code",
   "execution_count": null,
   "metadata": {},
   "outputs": [],
   "source": []
  },
  {
   "cell_type": "code",
   "execution_count": null,
   "metadata": {},
   "outputs": [],
   "source": []
  },
  {
   "cell_type": "code",
   "execution_count": null,
   "metadata": {},
   "outputs": [],
   "source": []
  },
  {
   "cell_type": "code",
   "execution_count": null,
   "metadata": {},
   "outputs": [],
   "source": []
  },
  {
   "cell_type": "code",
   "execution_count": null,
   "metadata": {},
   "outputs": [],
   "source": []
  },
  {
   "cell_type": "code",
   "execution_count": null,
   "metadata": {},
   "outputs": [],
   "source": []
  },
  {
   "cell_type": "code",
   "execution_count": null,
   "metadata": {},
   "outputs": [],
   "source": []
  },
  {
   "cell_type": "code",
   "execution_count": null,
   "metadata": {},
   "outputs": [],
   "source": []
  },
  {
   "cell_type": "code",
   "execution_count": null,
   "metadata": {},
   "outputs": [],
   "source": []
  }
 ],
 "metadata": {
  "kernelspec": {
   "display_name": "Python 3",
   "language": "python",
   "name": "python3"
  },
  "language_info": {
   "codemirror_mode": {
    "name": "ipython",
    "version": 3
   },
   "file_extension": ".py",
   "mimetype": "text/x-python",
   "name": "python",
   "nbconvert_exporter": "python",
   "pygments_lexer": "ipython3",
   "version": "3.7.0"
  },
  "toc": {
   "base_numbering": 1,
   "nav_menu": {},
   "number_sections": true,
   "sideBar": true,
   "skip_h1_title": false,
   "title_cell": "Table of Contents",
   "title_sidebar": "Contents",
   "toc_cell": true,
   "toc_position": {
    "height": "calc(100% - 180px)",
    "left": "10px",
    "top": "150px",
    "width": "273px"
   },
   "toc_section_display": true,
   "toc_window_display": true
  }
 },
 "nbformat": 4,
 "nbformat_minor": 2
}
