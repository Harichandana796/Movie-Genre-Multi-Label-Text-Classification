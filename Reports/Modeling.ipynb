{
 "cells": [
  {
   "cell_type": "markdown",
   "metadata": {
    "toc": true
   },
   "source": [
    "<h1>Table of Contents<span class=\"tocSkip\"></span></h1>\n",
    "<div class=\"toc\"><ul class=\"toc-item\"><li><span><a href=\"#MODELING\" data-toc-modified-id=\"MODELING-1\"><span class=\"toc-item-num\">1&nbsp;&nbsp;</span>MODELING</a></span><ul class=\"toc-item\"><li><span><a href=\"#Test-Train-Split\" data-toc-modified-id=\"Test-Train-Split-1.1\"><span class=\"toc-item-num\">1.1&nbsp;&nbsp;</span>Test-Train Split</a></span><ul class=\"toc-item\"><li><span><a href=\"#Checking-Trian-Test-Composition\" data-toc-modified-id=\"Checking-Trian-Test-Composition-1.1.1\"><span class=\"toc-item-num\">1.1.1&nbsp;&nbsp;</span>Checking Trian-Test Composition</a></span></li><li><span><a href=\"#Splitting-to-Input-X-and-Output-y\" data-toc-modified-id=\"Splitting-to-Input-X-and-Output-y-1.1.2\"><span class=\"toc-item-num\">1.1.2&nbsp;&nbsp;</span>Splitting to Input X and Output y</a></span></li></ul></li><li><span><a href=\"#Relevant-Function-Definitions\" data-toc-modified-id=\"Relevant-Function-Definitions-1.2\"><span class=\"toc-item-num\">1.2&nbsp;&nbsp;</span>Relevant Function Definitions</a></span><ul class=\"toc-item\"><li><span><a href=\"#Scoring-Functions\" data-toc-modified-id=\"Scoring-Functions-1.2.1\"><span class=\"toc-item-num\">1.2.1&nbsp;&nbsp;</span>Scoring Functions</a></span></li><li><span><a href=\"#Get-Top-Features\" data-toc-modified-id=\"Get-Top-Features-1.2.2\"><span class=\"toc-item-num\">1.2.2&nbsp;&nbsp;</span>Get Top Features</a></span></li><li><span><a href=\"#Multi-label-Predict\" data-toc-modified-id=\"Multi-label-Predict-1.2.3\"><span class=\"toc-item-num\">1.2.3&nbsp;&nbsp;</span>Multi-label Predict</a></span></li></ul></li><li><span><a href=\"#TF-IDF-+-Naive-Bayes\" data-toc-modified-id=\"TF-IDF-+-Naive-Bayes-1.3\"><span class=\"toc-item-num\">1.3&nbsp;&nbsp;</span>TF-IDF + Naive Bayes</a></span></li></ul></li></ul></div>"
   ]
  },
  {
   "cell_type": "code",
   "execution_count": 1,
   "metadata": {
    "ExecuteTime": {
     "end_time": "2019-02-25T05:22:21.979990Z",
     "start_time": "2019-02-25T05:22:16.435281Z"
    }
   },
   "outputs": [
    {
     "name": "stderr",
     "output_type": "stream",
     "text": [
      "C:\\Users\\smaiya\\AppData\\Local\\Continuum\\anaconda3\\lib\\site-packages\\sklearn\\cross_validation.py:41: DeprecationWarning: This module was deprecated in version 0.18 in favor of the model_selection module into which all the refactored classes and functions are moved. Also note that the interface of the new CV iterators are different from that of this module. This module will be removed in 0.20.\n",
      "  \"This module will be removed in 0.20.\", DeprecationWarning)\n"
     ]
    },
    {
     "name": "stdout",
     "output_type": "stream",
     "text": [
      "[nltk_data] Downloading package stopwords to\n",
      "[nltk_data]     C:\\Users\\smaiya\\AppData\\Roaming\\nltk_data...\n",
      "[nltk_data]   Package stopwords is already up-to-date!\n",
      "[nltk_data] Downloading package wordnet to\n",
      "[nltk_data]     C:\\Users\\smaiya\\AppData\\Roaming\\nltk_data...\n",
      "[nltk_data]   Package wordnet is already up-to-date!\n"
     ]
    }
   ],
   "source": [
    "# Ignore  the warnings\n",
    "import warnings\n",
    "warnings.filterwarnings('always')\n",
    "warnings.filterwarnings('ignore')\n",
    "\n",
    "import numpy as np\n",
    "import pandas as pd\n",
    "import matplotlib.pyplot as plt\n",
    "from matplotlib import style\n",
    "import seaborn as sns\n",
    "import missingno as msno\n",
    "import re\n",
    "import os.path\n",
    "import math\n",
    "from sklearn.model_selection import StratifiedShuffleSplit\n",
    "from sklearn.cross_validation import KFold\n",
    "from sklearn.naive_bayes import MultinomialNB\n",
    "from sklearn.pipeline import Pipeline\n",
    "from sklearn.svm import LinearSVC\n",
    "from sklearn.svm import SVC\n",
    "from sklearn.multiclass import OneVsRestClassifier\n",
    "from sklearn.metrics import classification_report\n",
    "from sklearn.model_selection import GridSearchCV\n",
    "from scipy import sparse\n",
    "from sklearn.metrics import make_scorer\n",
    "from sklearn.metrics import f1_score\n",
    "\n",
    "import nltk\n",
    "from wordcloud import WordCloud\n",
    "from nltk.stem.snowball import SnowballStemmer\n",
    "from nltk.stem import WordNetLemmatizer\n",
    "from nltk.corpus import stopwords\n",
    "import unicodedata\n",
    "\n",
    "from sklearn.feature_extraction.text import TfidfVectorizer\n",
    "\n",
    "nltk.download('stopwords')\n",
    "nltk.download('wordnet')\n",
    "\n",
    "#plt.style.use('fivethirtyeight')\n",
    "sns.set_style(\"whitegrid\")\n",
    "sns.set_context(\"talk\", font_scale=0.8)\n",
    "\n",
    "\n",
    "\n",
    "## Just for easy execution. Delete below later\n",
    "\n",
    "# Read the data\n",
    "preprocessed_data = False\n",
    "if os.path.exists('Data/preprocessed/movies_genres_preprocessed.csv'):\n",
    "    mydata = pd.read_csv('Data/preprocessed/movies_genres_preprocessed.csv')\n",
    "    preprocessed_data = True\n",
    "else:\n",
    "    mydata = pd.read_csv('Data/movies_genres.csv', delimiter='\\t')\n",
    "    \n",
    "category_columns = mydata.columns.drop(['title', 'plot', 'plot_lang'])\n",
    "for col in category_columns:\n",
    "    mydata[col] = mydata[col].astype('category')"
   ]
  },
  {
   "cell_type": "markdown",
   "metadata": {},
   "source": [
    "# MODELING"
   ]
  },
  {
   "cell_type": "markdown",
   "metadata": {},
   "source": [
    "## Test-Train Split\n",
    "Now let us first split the provided data into a train and test sets. This is a multi-label data set with highly imbalanced labels (Adult having just 61 samples and Drama with >45000 samples). In the below function `multi_label_train_test_split`, we split the provided data set ensuring that both the data sets have a minimum fraction of every labels. The minimum fraction is provided as an input parameter. We loop through each category and include `min_test_size` fraction of that category into the test data set. Clearly at the end of the loop, the number of occurence of each category will be greater than the `min_test_size` fraction since most movies that are being included into the test set as a particular genre also are categorized with other genres. \n",
    "\n",
    "We can further optimize the below function to ensure that more even distribution of movies into train and test data set; however, that is not really the aim of this project. Hence we will just stick to this simplified version. "
   ]
  },
  {
   "cell_type": "code",
   "execution_count": 2,
   "metadata": {
    "ExecuteTime": {
     "end_time": "2019-02-25T05:22:43.101822Z",
     "start_time": "2019-02-25T05:22:43.091795Z"
    }
   },
   "outputs": [],
   "source": [
    "def multi_label_train_test_split(data, labels, min_test_size=0.15, shuffle=True, random_state=29):\n",
    "    data_size = data.shape[0]\n",
    "    \n",
    "    # data_test_idx holds the test indices corresponding to the original data DataFrame\n",
    "    data_test_idx = np.array([False]*data_size)\n",
    "    \n",
    "    n_folds = math.floor(1/min_test_size)\n",
    "    data_train, data_test = pd.DataFrame(), pd.DataFrame()\n",
    "    for col in labels:\n",
    "        # Extracting the current genre plots\n",
    "        data_curr_genre = data[data[col]==1]\n",
    "        \n",
    "        curr_genre_size = data_curr_genre.shape[0]\n",
    "        curr_test_size = math.ceil(curr_genre_size*min_test_size)\n",
    "        \n",
    "        # Using KFold to get the test_idx for the current genre\n",
    "        curr_genre_test_idx = np.array([False]*curr_genre_size)\n",
    "        kf = KFold(curr_genre_size, n_folds=n_folds, shuffle=shuffle, random_state=random_state)\n",
    "        # Using the first fold values for the test indices for the current genre\n",
    "        curr_genre_test_idx[kf.idxs[0:curr_test_size]]=True\n",
    "        \n",
    "        # Mapping the test indices in the data_curr_genre back to the original data DataFrame\n",
    "        data_test_idx[data_curr_genre[curr_genre_test_idx].index]=True\n",
    "    \n",
    "    data_test = data[data_test_idx]\n",
    "    data_train = data[~data_test_idx]\n",
    "    return data_train, data_test"
   ]
  },
  {
   "cell_type": "markdown",
   "metadata": {},
   "source": [
    "**Preprocessing the training and testing data sets separately**"
   ]
  },
  {
   "cell_type": "code",
   "execution_count": 3,
   "metadata": {
    "ExecuteTime": {
     "end_time": "2019-02-25T05:22:45.754839Z",
     "start_time": "2019-02-25T05:22:43.104829Z"
    }
   },
   "outputs": [],
   "source": [
    "if os.path.exists('Data/preprocessed/movies_genres_train_preprocessed.csv') and os.path.exists('Data/preprocessed/movies_genres_test_preprocessed.csv'):\n",
    "    mydata_train = pd.read_csv('Data/preprocessed/movies_genres_train_preprocessed.csv')\n",
    "    mydata_test = pd.read_csv('Data/preprocessed/movies_genres_test_preprocessed.csv')\n",
    "else:\n",
    "    mydata_raw = pd.read_csv('Data/movies_genres.csv', delimiter='\\t')\n",
    "    min_test_size = 0.1\n",
    "    mydata_train, mydata_test = multi_label_train_test_split(mydata_raw, category_columns, min_test_size=min_test_size)\n",
    "    \n",
    "    mydata_train['plot'] = mydata_train['plot'].apply(text_preprocess)\n",
    "    mydata_train.to_csv('./Data/preprocessed/movies_genres_train_preprocessed.csv', index=False)\n",
    "    \n",
    "    mydata_test['plot'] = mydata_test['plot'].apply(text_preprocess)\n",
    "    mydata_test.to_csv('./Data/preprocessed/movies_genres_test_preprocessed.csv', index=False)"
   ]
  },
  {
   "cell_type": "markdown",
   "metadata": {},
   "source": [
    "### Checking Trian-Test Composition\n",
    "\n",
    "Let us check the composition of train and test data set to ensure each label occur with reasonable fraction in both these data sets. The test dataset considered has ~0.2 of the entire dataset. "
   ]
  },
  {
   "cell_type": "code",
   "execution_count": 4,
   "metadata": {
    "ExecuteTime": {
     "end_time": "2019-02-25T05:22:45.762863Z",
     "start_time": "2019-02-25T05:22:45.756843Z"
    },
    "scrolled": true
   },
   "outputs": [
    {
     "name": "stdout",
     "output_type": "stream",
     "text": [
      "Fraction of data in the Training Data Set: 0.195\n"
     ]
    }
   ],
   "source": [
    "print('Fraction of data in the Training Data Set: {0:.3f}'.format(mydata_test.shape[0]/mydata.shape[0]))"
   ]
  },
  {
   "cell_type": "markdown",
   "metadata": {},
   "source": [
    "Looking at each of the datasets to see how many movies of each genres are present"
   ]
  },
  {
   "cell_type": "code",
   "execution_count": 5,
   "metadata": {
    "ExecuteTime": {
     "end_time": "2019-02-25T05:22:46.413589Z",
     "start_time": "2019-02-25T05:22:45.766871Z"
    },
    "scrolled": false
   },
   "outputs": [],
   "source": [
    "sum_genre = mydata[category_columns].sum()\n",
    "sum_genre_train = mydata_train[category_columns].sum()\n",
    "sum_genre_test = mydata_test[category_columns].sum()\n",
    "df_movies_per_genre_1 = pd.DataFrame({'Genre':category_columns, 'Total': sum_genre_train/sum_genre, 'Data Set': 'Train'})\n",
    "df_movies_per_genre_2 = pd.DataFrame({'Genre':category_columns, 'Total': sum_genre_test/sum_genre, 'Data Set': 'Test'})\n",
    "df_movies_per_genre = pd.concat([df_movies_per_genre_1, df_movies_per_genre_2])"
   ]
  },
  {
   "cell_type": "code",
   "execution_count": 6,
   "metadata": {
    "ExecuteTime": {
     "end_time": "2019-02-25T05:22:47.069316Z",
     "start_time": "2019-02-25T05:22:46.415587Z"
    }
   },
   "outputs": [
    {
     "data": {
      "image/png": "[encoded data removed]",
      "text/plain": [
       "<Figure size 1440x720 with 1 Axes>"
      ]
     },
     "metadata": {
      "needs_background": "light"
     },
     "output_type": "display_data"
    }
   ],
   "source": [
    "f, ax = plt.subplots(1, 1, figsize=(20, 10))\n",
    "sns.barplot(data=df_movies_per_genre, x='Genre', y='Total', hue='Data Set', axes=ax)\n",
    "ax.set(ylabel='Normalized Number of Movies in that Genre', xlabel='')\n",
    "ax.set(title='Fraction of the number of movies of each Genre in Train and Test Sets')\n",
    "plt.xticks(rotation=90)\n",
    "plt.show()"
   ]
  },
  {
   "cell_type": "markdown",
   "metadata": {},
   "source": [
    "**Observations**  \n",
    "* For every category, we have at least 60% of the samples in the training data set and at least 15% of the samples in the test data set which seems good for our purpose"
   ]
  },
  {
   "cell_type": "markdown",
   "metadata": {},
   "source": [
    "### Splitting to Input X and Output y"
   ]
  },
  {
   "cell_type": "code",
   "execution_count": 20,
   "metadata": {
    "ExecuteTime": {
     "end_time": "2019-02-25T05:30:41.442367Z",
     "start_time": "2019-02-25T05:30:41.407275Z"
    }
   },
   "outputs": [],
   "source": [
    "train_X, train_y = mydata_train['plot'], mydata_train.drop(['title', 'plot', 'plot_lang'], axis=1)\n",
    "test_X, test_y = mydata_test['plot'], mydata_test.drop(['title', 'plot', 'plot_lang'], axis=1)\n",
    "\n",
    "#train_X = train_X.head(5000)\n",
    "#train_y = train_y.head(5000)"
   ]
  },
  {
   "cell_type": "markdown",
   "metadata": {},
   "source": [
    "## Relevant Function Definitions"
   ]
  },
  {
   "cell_type": "markdown",
   "metadata": {},
   "source": [
    "### Scoring Functions"
   ]
  },
  {
   "cell_type": "code",
   "execution_count": 8,
   "metadata": {
    "ExecuteTime": {
     "end_time": "2019-02-25T05:22:47.129477Z",
     "start_time": "2019-02-25T05:22:47.102404Z"
    }
   },
   "outputs": [],
   "source": [
    "def accuracy(y_actual, y_predict):\n",
    "    result = pd.DataFrame(columns=['True Positive', 'True Negative', 'Support'])\n",
    "    for col in y_actual.columns:\n",
    "        total = y_actual.shape[0]\n",
    "        support = y_actual[col].sum()\n",
    "        tp = round(((y_actual[col]==1) & (y_predict[col]==1)).sum()/support, 3)\n",
    "        tn = round(((y_actual[col]==0) & (y_predict[col]==0)).sum()/(total-support), 3)\n",
    "        result.loc[col] = [tp, tn, support]\n",
    "    return result"
   ]
  },
  {
   "cell_type": "code",
   "execution_count": 9,
   "metadata": {
    "ExecuteTime": {
     "end_time": "2019-02-25T05:22:47.166579Z",
     "start_time": "2019-02-25T05:22:47.135492Z"
    }
   },
   "outputs": [],
   "source": [
    "def overall_f1_score(y_actual, y_predict):\n",
    "    num_genres = y_actual.shape[1]\n",
    "    tp, fp, fn = 0, 0, 0\n",
    "    for idx in range(num_genres):\n",
    "        tp+=((y_actual[:,idx]==1) & (y_predict[:,idx]==1)).sum()\n",
    "        fp+=((y_actual[:,idx]==0) & (y_predict[:,idx]==1)).sum()\n",
    "        fn+=((y_actual[:,idx]==1) & (y_predict[:,idx]==0)).sum()\n",
    "    precision = tp/(tp+fp)\n",
    "    recall = tp/(tp+fn)\n",
    "    f1_score = 2*precision*recall/(precision+recall)\n",
    "    return f1_score\n",
    "\n",
    "overall_f1_score_cv = make_scorer(overall_f1_score, greater_is_better=True)"
   ]
  },
  {
   "cell_type": "markdown",
   "metadata": {},
   "source": [
    "### Get Top Features "
   ]
  },
  {
   "cell_type": "code",
   "execution_count": 10,
   "metadata": {
    "ExecuteTime": {
     "end_time": "2019-02-25T05:22:47.203672Z",
     "start_time": "2019-02-25T05:22:47.169583Z"
    }
   },
   "outputs": [],
   "source": [
    "def get_features_tfidf(pipeline, labels, num_features=10):\n",
    "    tfidf_vectorizer = pipeline.get_params()['tfidf']\n",
    "    clf = pipeline.get_params()['clf']\n",
    "    words = np.array(tfidf_vectorizer.get_feature_names())\n",
    "    x=sparse.identity(words.shape[0])\n",
    "    \n",
    "    probs = clf.predict_proba(x)\n",
    "    feature_id = ['Feature Rank {0}'.format(i) for i in range(1, num_features+1)]\n",
    "    df_good_features = pd.DataFrame(columns=feature_id)\n",
    "    for idx, col in enumerate(labels):\n",
    "        ind = np.argsort(probs[:,idx])\n",
    "        good_words = words[ind[-num_features:]]\n",
    "        good_prob = probs[ind[-num_features:], idx]\n",
    "        \n",
    "        good_list = ['{0} (p={1:.2f})'.format(w, p) for w, p in zip(good_words, good_prob)]\n",
    "        \n",
    "        df_good_features.loc[col] = good_list[::-1]\n",
    "    return df_good_features"
   ]
  },
  {
   "cell_type": "markdown",
   "metadata": {},
   "source": [
    "### Multi-label Predict"
   ]
  },
  {
   "cell_type": "code",
   "execution_count": 24,
   "metadata": {
    "ExecuteTime": {
     "end_time": "2019-02-25T05:37:02.795395Z",
     "start_time": "2019-02-25T05:37:02.789389Z"
    }
   },
   "outputs": [],
   "source": [
    "def get_prob_thresh(id=1):\n",
    "    prob_thresh=[]\n",
    "    if id==1:\n",
    "        prob_thresh = [0.5] * len(category_columns)\n",
    "    elif id==2:\n",
    "        sum_genre = mydata[category_columns].sum()\n",
    "        prob_thresh = (sum_genre/mydata.shape[0]+0.1).clip(upper=0.5)\n",
    "    return prob_thresh"
   ]
  },
  {
   "cell_type": "code",
   "execution_count": 25,
   "metadata": {
    "ExecuteTime": {
     "end_time": "2019-02-25T05:37:04.471819Z",
     "start_time": "2019-02-25T05:37:04.468811Z"
    }
   },
   "outputs": [],
   "source": [
    "def multi_label_predict(clf, X_test):\n",
    "    prob_thresh = get_prob_thresh(id=1)\n",
    "    y_pred = pd.DataFrame(columns=category_columns)\n",
    "    \n",
    "    prob = clf.predict_proba(X_test)\n",
    "    for idx, col in enumerate(y_pred):\n",
    "        y_pred[col] = prob[:,idx]>prob_thresh[idx]\n",
    "    return prob, y_pred"
   ]
  },
  {
   "cell_type": "markdown",
   "metadata": {},
   "source": [
    "## TF-IDF + Naive Bayes"
   ]
  },
  {
   "cell_type": "code",
   "execution_count": 13,
   "metadata": {
    "ExecuteTime": {
     "end_time": "2019-02-25T05:23:37.058977Z",
     "start_time": "2019-02-25T05:22:47.266838Z"
    },
    "scrolled": true
   },
   "outputs": [
    {
     "name": "stdout",
     "output_type": "stream",
     "text": [
      "Fitting 2 folds for each of 18 candidates, totalling 36 fits\n"
     ]
    },
    {
     "name": "stderr",
     "output_type": "stream",
     "text": [
      "[Parallel(n_jobs=3)]: Done   2 tasks      | elapsed:    4.5s\n",
      "[Parallel(n_jobs=3)]: Done   7 tasks      | elapsed:   10.1s\n",
      "[Parallel(n_jobs=3)]: Done  12 tasks      | elapsed:   16.2s\n",
      "[Parallel(n_jobs=3)]: Done  19 tasks      | elapsed:   26.1s\n",
      "[Parallel(n_jobs=3)]: Done  26 tasks      | elapsed:   34.8s\n",
      "[Parallel(n_jobs=3)]: Done  36 out of  36 | elapsed:   46.5s finished\n",
      "C:\\Users\\smaiya\\AppData\\Local\\Continuum\\anaconda3\\lib\\site-packages\\sklearn\\multiclass.py:76: UserWarning: Label not 1 is present in all training examples.\n",
      "  str(classes[c]))\n"
     ]
    },
    {
     "name": "stdout",
     "output_type": "stream",
     "text": [
      "\n",
      "Best parameters set:\n",
      "[('tfidf', TfidfVectorizer(analyzer='word', binary=False, decode_error='strict',\n",
      "        dtype=<class 'numpy.int64'>, encoding='utf-8', input='content',\n",
      "        lowercase=True, max_df=0.25, max_features=None, min_df=1,\n",
      "        ngram_range=(1, 1), norm='l2', preprocessor=None, smooth_idf=True,\n",
      "        stop_words=None, strip_accents=None, sublinear_tf=False,\n",
      "        token_pattern='(?u)\\\\b\\\\w\\\\w+\\\\b', tokenizer=None, use_idf=True,\n",
      "        vocabulary=None)), ('clf', OneVsRestClassifier(estimator=MultinomialNB(alpha=0.01, class_prior=None, fit_prior=True),\n",
      "          n_jobs=1))]\n",
      "\n",
      "Applying best classifier on test data:\n",
      "             precision    recall  f1-score   support\n",
      "\n",
      "     Action       0.64      0.10      0.17      4321\n",
      "      Adult       0.00      0.00      0.00        11\n",
      "  Adventure       0.69      0.05      0.10      3496\n",
      "  Animation       0.75      0.20      0.32      3333\n",
      "  Biography       0.18      0.04      0.07       354\n",
      "     Comedy       0.53      0.33      0.41      7320\n",
      "      Crime       0.68      0.29      0.41      4453\n",
      "Documentary       0.34      0.57      0.43      1863\n",
      "      Drama       0.75      0.49      0.59     11067\n",
      "     Family       0.61      0.12      0.20      4173\n",
      "    Fantasy       0.74      0.05      0.10      2643\n",
      "  Game-Show       0.74      0.11      0.19       450\n",
      "    History       0.35      0.16      0.22       623\n",
      "     Horror       0.62      0.03      0.06       854\n",
      "      Music       0.74      0.06      0.12       654\n",
      "    Musical       0.75      0.03      0.06       182\n",
      "    Mystery       0.53      0.14      0.23      4114\n",
      "       News       0.57      0.40      0.47       681\n",
      " Reality-TV       0.60      0.22      0.32      1748\n",
      "    Romance       0.60      0.09      0.15      4581\n",
      "     Sci-Fi       0.69      0.13      0.22      3055\n",
      "      Short       0.60      0.02      0.04       142\n",
      "      Sport       0.63      0.19      0.29       426\n",
      "  Talk-Show       0.81      0.04      0.07       809\n",
      "   Thriller       0.42      0.11      0.17      3254\n",
      "        War       0.79      0.08      0.14       388\n",
      "    Western       0.73      0.07      0.13       445\n",
      "\n",
      "avg / total       0.63      0.23      0.30     65440\n",
      "\n"
     ]
    },
    {
     "name": "stderr",
     "output_type": "stream",
     "text": [
      "C:\\Users\\smaiya\\AppData\\Local\\Continuum\\anaconda3\\lib\\site-packages\\sklearn\\metrics\\classification.py:1135: UndefinedMetricWarning: Precision and F-score are ill-defined and being set to 0.0 in labels with no predicted samples.\n",
      "  'precision', 'predicted', average, warn_for)\n"
     ]
    }
   ],
   "source": [
    "pipeline = Pipeline([\n",
    "                ('tfidf', TfidfVectorizer()),\n",
    "                ('clf', OneVsRestClassifier(MultinomialNB(fit_prior=True, class_prior=None)))\n",
    "            ])\n",
    "# sorted(pipeline.get_params().keys()) # -- to obtain the GridSearchCV parameter names\n",
    "parameters = {\n",
    "                'tfidf__max_df': (0.25, 0.5, 0.75),\n",
    "                'tfidf__ngram_range': [(1, 1), (1, 2), (1, 3)],\n",
    "                'clf__estimator__alpha': (1e-2, 1e-3)\n",
    "            }\n",
    "#grid_search_cv = GridSearchCV(pipeline, parameters, cv=2, n_jobs=3, verbose=10, scoring=overall_f1_score_cv)\n",
    "grid_search_cv = GridSearchCV(pipeline, parameters, cv=2, n_jobs=3, verbose=10)\n",
    "grid_search_cv.fit(train_X, train_y)\n",
    "\n",
    "print()\n",
    "print(\"Best parameters set:\")\n",
    "print (grid_search_cv.best_estimator_.steps)\n",
    "print()\n",
    "\n",
    "# measuring performance on test set\n",
    "print (\"Applying best classifier on test data:\")\n",
    "best_clf = grid_search_cv.best_estimator_\n",
    "prob, predictions = multi_label_predict(best_clf, test_X) #predictions = best_clf.predict(test_X)\n",
    "\n",
    "print (classification_report(test_y, predictions, target_names=category_columns))"
   ]
  },
  {
   "cell_type": "code",
   "execution_count": 27,
   "metadata": {
    "ExecuteTime": {
     "end_time": "2019-02-25T05:40:10.740081Z",
     "start_time": "2019-02-25T05:39:04.886612Z"
    }
   },
   "outputs": [
    {
     "name": "stdout",
     "output_type": "stream",
     "text": [
      "             precision    recall  f1-score   support\n",
      "\n",
      "     Action       0.75      0.04      0.08      4321\n",
      "      Adult       0.00      0.00      0.00        11\n",
      "  Adventure       0.86      0.02      0.05      3496\n",
      "  Animation       0.84      0.09      0.16      3333\n",
      "  Biography       0.17      0.00      0.01       354\n",
      "     Comedy       0.56      0.25      0.35      7320\n",
      "      Crime       0.77      0.14      0.24      4453\n",
      "Documentary       0.47      0.37      0.41      1863\n",
      "      Drama       0.76      0.48      0.59     11067\n",
      "     Family       0.70      0.06      0.11      4173\n",
      "    Fantasy       0.88      0.03      0.05      2643\n",
      "  Game-Show       0.92      0.05      0.10       450\n",
      "    History       0.61      0.07      0.13       623\n",
      "     Horror       0.92      0.01      0.03       854\n",
      "      Music       0.89      0.02      0.05       654\n",
      "    Musical       0.75      0.02      0.03       182\n",
      "    Mystery       0.68      0.05      0.09      4114\n",
      "       News       0.81      0.24      0.37       681\n",
      " Reality-TV       0.75      0.10      0.18      1748\n",
      "    Romance       0.74      0.05      0.09      4581\n",
      "     Sci-Fi       0.83      0.05      0.10      3055\n",
      "      Short       1.00      0.01      0.03       142\n",
      "      Sport       0.77      0.08      0.14       426\n",
      "  Talk-Show       0.89      0.03      0.06       809\n",
      "   Thriller       0.61      0.04      0.08      3254\n",
      "        War       0.95      0.05      0.09       388\n",
      "    Western       0.88      0.03      0.06       445\n",
      "\n",
      "avg / total       0.73      0.16      0.23     65440\n",
      "\n"
     ]
    },
    {
     "name": "stderr",
     "output_type": "stream",
     "text": [
      "C:\\Users\\smaiya\\AppData\\Local\\Continuum\\anaconda3\\lib\\site-packages\\sklearn\\metrics\\classification.py:1135: UndefinedMetricWarning: Precision and F-score are ill-defined and being set to 0.0 in labels with no predicted samples.\n",
      "  'precision', 'predicted', average, warn_for)\n"
     ]
    }
   ],
   "source": [
    "pipeline = Pipeline([\n",
    "                ('tfidf', TfidfVectorizer(max_df=0.5, ngram_range=(1, 2))),\n",
    "                ('clf', OneVsRestClassifier(MultinomialNB(alpha=0.01, fit_prior=True, class_prior=None)))\n",
    "            ])\n",
    "pipeline.fit(train_X, train_y)\n",
    "predictions = best_clf.predict(test_X)\n",
    "#prob, predictions = multi_label_predict(best_clf, test_X) \n",
    "\n",
    "print (classification_report(test_y, predictions, target_names=category_columns))"
   ]
  },
  {
   "cell_type": "code",
   "execution_count": 14,
   "metadata": {
    "ExecuteTime": {
     "end_time": "2019-02-25T05:23:37.719727Z",
     "start_time": "2019-02-25T05:23:37.061988Z"
    }
   },
   "outputs": [],
   "source": [
    "df_good = get_features_tfidf(best_clf, category_columns)"
   ]
  },
  {
   "cell_type": "code",
   "execution_count": 15,
   "metadata": {
    "ExecuteTime": {
     "end_time": "2019-02-25T05:23:37.766850Z",
     "start_time": "2019-02-25T05:23:37.722734Z"
    }
   },
   "outputs": [
    {
     "data": {
      "text/html": [
       "<div>\n",
       "<style scoped>\n",
       "    .dataframe tbody tr th:only-of-type {\n",
       "        vertical-align: middle;\n",
       "    }\n",
       "\n",
       "    .dataframe tbody tr th {\n",
       "        vertical-align: top;\n",
       "    }\n",
       "\n",
       "    .dataframe thead th {\n",
       "        text-align: right;\n",
       "    }\n",
       "</style>\n",
       "<table border=\"1\" class=\"dataframe\">\n",
       "  <thead>\n",
       "    <tr style=\"text-align: right;\">\n",
       "      <th></th>\n",
       "      <th>Feature Rank 1</th>\n",
       "      <th>Feature Rank 2</th>\n",
       "      <th>Feature Rank 3</th>\n",
       "      <th>Feature Rank 4</th>\n",
       "      <th>Feature Rank 5</th>\n",
       "      <th>Feature Rank 6</th>\n",
       "      <th>Feature Rank 7</th>\n",
       "      <th>Feature Rank 8</th>\n",
       "      <th>Feature Rank 9</th>\n",
       "      <th>Feature Rank 10</th>\n",
       "    </tr>\n",
       "  </thead>\n",
       "  <tbody>\n",
       "    <tr>\n",
       "      <th>Action</th>\n",
       "      <td>ctu (p=1.00)</td>\n",
       "      <td>semir (p=1.00)</td>\n",
       "      <td>sloane (p=1.00)</td>\n",
       "      <td>cordy (p=1.00)</td>\n",
       "      <td>rin (p=1.00)</td>\n",
       "      <td>beka (p=1.00)</td>\n",
       "      <td>maki (p=1.00)</td>\n",
       "      <td>malory (p=0.99)</td>\n",
       "      <td>sark (p=0.99)</td>\n",
       "      <td>commonwealth (p=0.99)</td>\n",
       "    </tr>\n",
       "    <tr>\n",
       "      <th>Adult</th>\n",
       "      <td>zurich (p=0.00)</td>\n",
       "      <td>fluke (p=0.00)</td>\n",
       "      <td>foliage (p=0.00)</td>\n",
       "      <td>folk (p=0.00)</td>\n",
       "      <td>folklore (p=0.00)</td>\n",
       "      <td>folks (p=0.00)</td>\n",
       "      <td>follies (p=0.00)</td>\n",
       "      <td>follow (p=0.00)</td>\n",
       "      <td>follower (p=0.00)</td>\n",
       "      <td>followers (p=0.00)</td>\n",
       "    </tr>\n",
       "    <tr>\n",
       "      <th>Adventure</th>\n",
       "      <td>beka (p=0.99)</td>\n",
       "      <td>commonwealth (p=0.99)</td>\n",
       "      <td>airwolf (p=0.99)</td>\n",
       "      <td>tyr (p=0.99)</td>\n",
       "      <td>hawke (p=0.99)</td>\n",
       "      <td>robotnik (p=0.99)</td>\n",
       "      <td>jarod (p=0.99)</td>\n",
       "      <td>adderly (p=0.99)</td>\n",
       "      <td>seefra (p=0.99)</td>\n",
       "      <td>hackers (p=0.99)</td>\n",
       "    </tr>\n",
       "    <tr>\n",
       "      <th>Animation</th>\n",
       "      <td>genie (p=1.00)</td>\n",
       "      <td>altair (p=1.00)</td>\n",
       "      <td>gummi (p=1.00)</td>\n",
       "      <td>iago (p=1.00)</td>\n",
       "      <td>rin (p=1.00)</td>\n",
       "      <td>meatwad (p=1.00)</td>\n",
       "      <td>slappy (p=1.00)</td>\n",
       "      <td>maki (p=1.00)</td>\n",
       "      <td>malory (p=1.00)</td>\n",
       "      <td>gaston (p=1.00)</td>\n",
       "    </tr>\n",
       "    <tr>\n",
       "      <th>Biography</th>\n",
       "      <td>eisenbach (p=0.99)</td>\n",
       "      <td>injustice (p=0.98)</td>\n",
       "      <td>akron (p=0.98)</td>\n",
       "      <td>comicbook (p=0.98)</td>\n",
       "      <td>lemond (p=0.98)</td>\n",
       "      <td>giancana (p=0.98)</td>\n",
       "      <td>islanders (p=0.98)</td>\n",
       "      <td>mcgowen (p=0.98)</td>\n",
       "      <td>watergate (p=0.98)</td>\n",
       "      <td>udai (p=0.98)</td>\n",
       "    </tr>\n",
       "    <tr>\n",
       "      <th>Comedy</th>\n",
       "      <td>saba (p=1.00)</td>\n",
       "      <td>siegfried (p=1.00)</td>\n",
       "      <td>tristan (p=1.00)</td>\n",
       "      <td>solomons (p=1.00)</td>\n",
       "      <td>flick (p=1.00)</td>\n",
       "      <td>adrianna (p=1.00)</td>\n",
       "      <td>alf (p=1.00)</td>\n",
       "      <td>navid (p=1.00)</td>\n",
       "      <td>iago (p=1.00)</td>\n",
       "      <td>saffy (p=1.00)</td>\n",
       "    </tr>\n",
       "    <tr>\n",
       "      <th>Crime</th>\n",
       "      <td>ctu (p=1.00)</td>\n",
       "      <td>semir (p=1.00)</td>\n",
       "      <td>bauer (p=0.99)</td>\n",
       "      <td>teri (p=0.99)</td>\n",
       "      <td>japp (p=0.99)</td>\n",
       "      <td>alisha (p=0.99)</td>\n",
       "      <td>autobahn (p=0.99)</td>\n",
       "      <td>penhall (p=0.99)</td>\n",
       "      <td>langton (p=0.99)</td>\n",
       "      <td>engelhardt (p=0.99)</td>\n",
       "    </tr>\n",
       "    <tr>\n",
       "      <th>Documentary</th>\n",
       "      <td>rebroadcast (p=1.00)</td>\n",
       "      <td>rooney (p=1.00)</td>\n",
       "      <td>kimball (p=1.00)</td>\n",
       "      <td>collin (p=1.00)</td>\n",
       "      <td>davison (p=1.00)</td>\n",
       "      <td>duggar (p=1.00)</td>\n",
       "      <td>duggars (p=1.00)</td>\n",
       "      <td>ried (p=1.00)</td>\n",
       "      <td>mcmanus (p=1.00)</td>\n",
       "      <td>bourdain (p=1.00)</td>\n",
       "    </tr>\n",
       "    <tr>\n",
       "      <th>Drama</th>\n",
       "      <td>siegfried (p=1.00)</td>\n",
       "      <td>tristan (p=1.00)</td>\n",
       "      <td>ctu (p=1.00)</td>\n",
       "      <td>palmer (p=1.00)</td>\n",
       "      <td>andromeda (p=1.00)</td>\n",
       "      <td>semir (p=1.00)</td>\n",
       "      <td>adrianna (p=1.00)</td>\n",
       "      <td>ruthie (p=1.00)</td>\n",
       "      <td>navid (p=1.00)</td>\n",
       "      <td>sloane (p=1.00)</td>\n",
       "    </tr>\n",
       "    <tr>\n",
       "      <th>Family</th>\n",
       "      <td>solomons (p=1.00)</td>\n",
       "      <td>ruthie (p=1.00)</td>\n",
       "      <td>gummi (p=1.00)</td>\n",
       "      <td>iago (p=1.00)</td>\n",
       "      <td>chyna (p=1.00)</td>\n",
       "      <td>aquila (p=1.00)</td>\n",
       "      <td>allegra (p=1.00)</td>\n",
       "      <td>slappy (p=1.00)</td>\n",
       "      <td>cubbi (p=0.99)</td>\n",
       "      <td>pandy (p=0.99)</td>\n",
       "    </tr>\n",
       "    <tr>\n",
       "      <th>Fantasy</th>\n",
       "      <td>gummi (p=1.00)</td>\n",
       "      <td>cordy (p=1.00)</td>\n",
       "      <td>rin (p=1.00)</td>\n",
       "      <td>nelle (p=1.00)</td>\n",
       "      <td>cubbi (p=0.99)</td>\n",
       "      <td>tummi (p=0.99)</td>\n",
       "      <td>gunn (p=0.99)</td>\n",
       "      <td>animorphs (p=0.99)</td>\n",
       "      <td>igthorn (p=0.99)</td>\n",
       "      <td>keiichi (p=0.99)</td>\n",
       "    </tr>\n",
       "    <tr>\n",
       "      <th>Game-Show</th>\n",
       "      <td>tyra (p=0.99)</td>\n",
       "      <td>manuel (p=0.99)</td>\n",
       "      <td>covergirl (p=0.99)</td>\n",
       "      <td>mercado (p=0.99)</td>\n",
       "      <td>syesha (p=0.99)</td>\n",
       "      <td>kristine (p=0.98)</td>\n",
       "      <td>iseman (p=0.98)</td>\n",
       "      <td>leahy (p=0.98)</td>\n",
       "      <td>kristy (p=0.98)</td>\n",
       "      <td>smithson (p=0.98)</td>\n",
       "    </tr>\n",
       "    <tr>\n",
       "      <th>History</th>\n",
       "      <td>staib (p=1.00)</td>\n",
       "      <td>caliph (p=1.00)</td>\n",
       "      <td>hajjaj (p=1.00)</td>\n",
       "      <td>ibn (p=1.00)</td>\n",
       "      <td>mamoun (p=0.99)</td>\n",
       "      <td>lillian (p=0.99)</td>\n",
       "      <td>marr (p=0.99)</td>\n",
       "      <td>beatrice (p=0.99)</td>\n",
       "      <td>wolter (p=0.99)</td>\n",
       "      <td>mutamid (p=0.99)</td>\n",
       "    </tr>\n",
       "    <tr>\n",
       "      <th>Horror</th>\n",
       "      <td>rin (p=0.99)</td>\n",
       "      <td>crower (p=0.99)</td>\n",
       "      <td>oblina (p=0.98)</td>\n",
       "      <td>ickis (p=0.98)</td>\n",
       "      <td>yukio (p=0.98)</td>\n",
       "      <td>shiemi (p=0.98)</td>\n",
       "      <td>adana (p=0.98)</td>\n",
       "      <td>impure (p=0.98)</td>\n",
       "      <td>trinity (p=0.98)</td>\n",
       "      <td>eunice (p=0.98)</td>\n",
       "    </tr>\n",
       "    <tr>\n",
       "      <th>Music</th>\n",
       "      <td>av (p=1.00)</td>\n",
       "      <td>nelle (p=0.99)</td>\n",
       "      <td>stydahar (p=0.99)</td>\n",
       "      <td>callie (p=0.99)</td>\n",
       "      <td>mercado (p=0.99)</td>\n",
       "      <td>syesha (p=0.99)</td>\n",
       "      <td>kristy (p=0.99)</td>\n",
       "      <td>smithson (p=0.99)</td>\n",
       "      <td>chipmunks (p=0.99)</td>\n",
       "      <td>patty (p=0.99)</td>\n",
       "    </tr>\n",
       "    <tr>\n",
       "      <th>Musical</th>\n",
       "      <td>slappy (p=0.99)</td>\n",
       "      <td>wakko (p=0.99)</td>\n",
       "      <td>squirrel (p=0.98)</td>\n",
       "      <td>skippy (p=0.98)</td>\n",
       "      <td>mindy (p=0.98)</td>\n",
       "      <td>yakko (p=0.97)</td>\n",
       "      <td>squirrels (p=0.97)</td>\n",
       "      <td>minerva (p=0.96)</td>\n",
       "      <td>plotz (p=0.96)</td>\n",
       "      <td>scratchansniff (p=0.96)</td>\n",
       "    </tr>\n",
       "    <tr>\n",
       "      <th>Mystery</th>\n",
       "      <td>poirot (p=1.00)</td>\n",
       "      <td>sloane (p=1.00)</td>\n",
       "      <td>marple (p=1.00)</td>\n",
       "      <td>sark (p=0.99)</td>\n",
       "      <td>agatha (p=0.99)</td>\n",
       "      <td>irina (p=0.99)</td>\n",
       "      <td>japp (p=0.99)</td>\n",
       "      <td>alisha (p=0.99)</td>\n",
       "      <td>cara (p=0.99)</td>\n",
       "      <td>penhall (p=0.99)</td>\n",
       "    </tr>\n",
       "    <tr>\n",
       "      <th>News</th>\n",
       "      <td>rebroadcast (p=1.00)</td>\n",
       "      <td>rooney (p=1.00)</td>\n",
       "      <td>uncommon (p=0.99)</td>\n",
       "      <td>haislip (p=0.99)</td>\n",
       "      <td>albrecht (p=0.99)</td>\n",
       "      <td>gopro (p=0.99)</td>\n",
       "      <td>taliban (p=0.99)</td>\n",
       "      <td>afghan (p=0.99)</td>\n",
       "      <td>mubarak (p=0.99)</td>\n",
       "      <td>prescription (p=0.99)</td>\n",
       "    </tr>\n",
       "    <tr>\n",
       "      <th>Reality-TV</th>\n",
       "      <td>vivian (p=1.00)</td>\n",
       "      <td>occ (p=1.00)</td>\n",
       "      <td>duggar (p=1.00)</td>\n",
       "      <td>duggars (p=1.00)</td>\n",
       "      <td>atz (p=1.00)</td>\n",
       "      <td>pickers (p=1.00)</td>\n",
       "      <td>designers (p=1.00)</td>\n",
       "      <td>sr (p=1.00)</td>\n",
       "      <td>pjd (p=1.00)</td>\n",
       "      <td>eivin (p=1.00)</td>\n",
       "    </tr>\n",
       "    <tr>\n",
       "      <th>Romance</th>\n",
       "      <td>merel (p=1.00)</td>\n",
       "      <td>amika (p=1.00)</td>\n",
       "      <td>gringo (p=1.00)</td>\n",
       "      <td>adrianna (p=1.00)</td>\n",
       "      <td>ruthie (p=1.00)</td>\n",
       "      <td>navid (p=1.00)</td>\n",
       "      <td>iago (p=1.00)</td>\n",
       "      <td>oli (p=1.00)</td>\n",
       "      <td>hedwig (p=1.00)</td>\n",
       "      <td>nelle (p=1.00)</td>\n",
       "    </tr>\n",
       "    <tr>\n",
       "      <th>Sci-Fi</th>\n",
       "      <td>solomons (p=1.00)</td>\n",
       "      <td>andromeda (p=1.00)</td>\n",
       "      <td>sloane (p=1.00)</td>\n",
       "      <td>aquila (p=1.00)</td>\n",
       "      <td>beka (p=1.00)</td>\n",
       "      <td>shania (p=0.99)</td>\n",
       "      <td>sark (p=0.99)</td>\n",
       "      <td>commonwealth (p=0.99)</td>\n",
       "      <td>airwolf (p=0.99)</td>\n",
       "      <td>tyr (p=0.99)</td>\n",
       "    </tr>\n",
       "    <tr>\n",
       "      <th>Short</th>\n",
       "      <td>sungwoo (p=0.97)</td>\n",
       "      <td>abff (p=0.97)</td>\n",
       "      <td>aronow (p=0.96)</td>\n",
       "      <td>dante (p=0.96)</td>\n",
       "      <td>tasmanian (p=0.96)</td>\n",
       "      <td>pacers (p=0.96)</td>\n",
       "      <td>wensinks (p=0.96)</td>\n",
       "      <td>delaneys (p=0.95)</td>\n",
       "      <td>slote (p=0.95)</td>\n",
       "      <td>baseline (p=0.94)</td>\n",
       "    </tr>\n",
       "    <tr>\n",
       "      <th>Sport</th>\n",
       "      <td>maki (p=0.99)</td>\n",
       "      <td>fc (p=0.99)</td>\n",
       "      <td>gopro (p=0.99)</td>\n",
       "      <td>bram (p=0.99)</td>\n",
       "      <td>shooters (p=0.99)</td>\n",
       "      <td>leahy (p=0.99)</td>\n",
       "      <td>kristine (p=0.99)</td>\n",
       "      <td>iseman (p=0.99)</td>\n",
       "      <td>laila (p=0.99)</td>\n",
       "      <td>gbajabiamila (p=0.99)</td>\n",
       "    </tr>\n",
       "    <tr>\n",
       "      <th>Talk-Show</th>\n",
       "      <td>actorse (p=1.00)</td>\n",
       "      <td>llc (p=1.00)</td>\n",
       "      <td>doss (p=1.00)</td>\n",
       "      <td>duncan (p=1.00)</td>\n",
       "      <td>portwood (p=1.00)</td>\n",
       "      <td>pincus (p=0.99)</td>\n",
       "      <td>langan (p=0.99)</td>\n",
       "      <td>nay (p=0.99)</td>\n",
       "      <td>phd (p=0.99)</td>\n",
       "      <td>ric (p=0.99)</td>\n",
       "    </tr>\n",
       "    <tr>\n",
       "      <th>Thriller</th>\n",
       "      <td>ctu (p=1.00)</td>\n",
       "      <td>sloane (p=1.00)</td>\n",
       "      <td>cordy (p=1.00)</td>\n",
       "      <td>sark (p=0.99)</td>\n",
       "      <td>gunn (p=0.99)</td>\n",
       "      <td>animorphs (p=0.99)</td>\n",
       "      <td>teri (p=0.99)</td>\n",
       "      <td>irina (p=0.99)</td>\n",
       "      <td>coulson (p=0.99)</td>\n",
       "      <td>japp (p=0.99)</td>\n",
       "    </tr>\n",
       "    <tr>\n",
       "      <th>War</th>\n",
       "      <td>flick (p=1.00)</td>\n",
       "      <td>strohm (p=0.99)</td>\n",
       "      <td>germans (p=0.99)</td>\n",
       "      <td>klinkerhoffen (p=0.99)</td>\n",
       "      <td>herr (p=0.99)</td>\n",
       "      <td>smallhausen (p=0.99)</td>\n",
       "      <td>leclerc (p=0.99)</td>\n",
       "      <td>komansky (p=0.99)</td>\n",
       "      <td>col (p=0.99)</td>\n",
       "      <td>laust (p=0.99)</td>\n",
       "    </tr>\n",
       "    <tr>\n",
       "      <th>Western</th>\n",
       "      <td>heyes (p=1.00)</td>\n",
       "      <td>shenandoah (p=1.00)</td>\n",
       "      <td>rynning (p=0.99)</td>\n",
       "      <td>tagg (p=0.99)</td>\n",
       "      <td>posse (p=0.99)</td>\n",
       "      <td>lawman (p=0.98)</td>\n",
       "      <td>shoreham (p=0.98)</td>\n",
       "      <td>lom (p=0.98)</td>\n",
       "      <td>apache (p=0.98)</td>\n",
       "      <td>hickok (p=0.98)</td>\n",
       "    </tr>\n",
       "  </tbody>\n",
       "</table>\n",
       "</div>"
      ],
      "text/plain": [
       "                   Feature Rank 1         Feature Rank 2      Feature Rank 3  \\\n",
       "Action               ctu (p=1.00)         semir (p=1.00)     sloane (p=1.00)   \n",
       "Adult             zurich (p=0.00)         fluke (p=0.00)    foliage (p=0.00)   \n",
       "Adventure           beka (p=0.99)  commonwealth (p=0.99)    airwolf (p=0.99)   \n",
       "Animation          genie (p=1.00)        altair (p=1.00)      gummi (p=1.00)   \n",
       "Biography      eisenbach (p=0.99)     injustice (p=0.98)      akron (p=0.98)   \n",
       "Comedy              saba (p=1.00)     siegfried (p=1.00)    tristan (p=1.00)   \n",
       "Crime                ctu (p=1.00)         semir (p=1.00)      bauer (p=0.99)   \n",
       "Documentary  rebroadcast (p=1.00)        rooney (p=1.00)    kimball (p=1.00)   \n",
       "Drama          siegfried (p=1.00)       tristan (p=1.00)        ctu (p=1.00)   \n",
       "Family          solomons (p=1.00)        ruthie (p=1.00)      gummi (p=1.00)   \n",
       "Fantasy            gummi (p=1.00)         cordy (p=1.00)        rin (p=1.00)   \n",
       "Game-Show           tyra (p=0.99)        manuel (p=0.99)  covergirl (p=0.99)   \n",
       "History            staib (p=1.00)        caliph (p=1.00)     hajjaj (p=1.00)   \n",
       "Horror               rin (p=0.99)        crower (p=0.99)     oblina (p=0.98)   \n",
       "Music                 av (p=1.00)         nelle (p=0.99)   stydahar (p=0.99)   \n",
       "Musical           slappy (p=0.99)         wakko (p=0.99)   squirrel (p=0.98)   \n",
       "Mystery           poirot (p=1.00)        sloane (p=1.00)     marple (p=1.00)   \n",
       "News         rebroadcast (p=1.00)        rooney (p=1.00)   uncommon (p=0.99)   \n",
       "Reality-TV        vivian (p=1.00)           occ (p=1.00)     duggar (p=1.00)   \n",
       "Romance            merel (p=1.00)         amika (p=1.00)     gringo (p=1.00)   \n",
       "Sci-Fi          solomons (p=1.00)     andromeda (p=1.00)     sloane (p=1.00)   \n",
       "Short            sungwoo (p=0.97)          abff (p=0.97)     aronow (p=0.96)   \n",
       "Sport               maki (p=0.99)            fc (p=0.99)      gopro (p=0.99)   \n",
       "Talk-Show        actorse (p=1.00)           llc (p=1.00)       doss (p=1.00)   \n",
       "Thriller             ctu (p=1.00)        sloane (p=1.00)      cordy (p=1.00)   \n",
       "War                flick (p=1.00)        strohm (p=0.99)    germans (p=0.99)   \n",
       "Western            heyes (p=1.00)    shenandoah (p=1.00)    rynning (p=0.99)   \n",
       "\n",
       "                     Feature Rank 4      Feature Rank 5        Feature Rank 6  \\\n",
       "Action               cordy (p=1.00)        rin (p=1.00)         beka (p=1.00)   \n",
       "Adult                 folk (p=0.00)   folklore (p=0.00)        folks (p=0.00)   \n",
       "Adventure              tyr (p=0.99)      hawke (p=0.99)     robotnik (p=0.99)   \n",
       "Animation             iago (p=1.00)        rin (p=1.00)      meatwad (p=1.00)   \n",
       "Biography        comicbook (p=0.98)     lemond (p=0.98)     giancana (p=0.98)   \n",
       "Comedy            solomons (p=1.00)      flick (p=1.00)     adrianna (p=1.00)   \n",
       "Crime                 teri (p=0.99)       japp (p=0.99)       alisha (p=0.99)   \n",
       "Documentary         collin (p=1.00)    davison (p=1.00)       duggar (p=1.00)   \n",
       "Drama               palmer (p=1.00)  andromeda (p=1.00)        semir (p=1.00)   \n",
       "Family                iago (p=1.00)      chyna (p=1.00)       aquila (p=1.00)   \n",
       "Fantasy              nelle (p=1.00)      cubbi (p=0.99)        tummi (p=0.99)   \n",
       "Game-Show          mercado (p=0.99)     syesha (p=0.99)     kristine (p=0.98)   \n",
       "History                ibn (p=1.00)     mamoun (p=0.99)      lillian (p=0.99)   \n",
       "Horror               ickis (p=0.98)      yukio (p=0.98)       shiemi (p=0.98)   \n",
       "Music               callie (p=0.99)    mercado (p=0.99)       syesha (p=0.99)   \n",
       "Musical             skippy (p=0.98)      mindy (p=0.98)        yakko (p=0.97)   \n",
       "Mystery               sark (p=0.99)     agatha (p=0.99)        irina (p=0.99)   \n",
       "News               haislip (p=0.99)   albrecht (p=0.99)        gopro (p=0.99)   \n",
       "Reality-TV         duggars (p=1.00)        atz (p=1.00)      pickers (p=1.00)   \n",
       "Romance           adrianna (p=1.00)     ruthie (p=1.00)        navid (p=1.00)   \n",
       "Sci-Fi              aquila (p=1.00)       beka (p=1.00)       shania (p=0.99)   \n",
       "Short                dante (p=0.96)  tasmanian (p=0.96)       pacers (p=0.96)   \n",
       "Sport                 bram (p=0.99)   shooters (p=0.99)        leahy (p=0.99)   \n",
       "Talk-Show           duncan (p=1.00)   portwood (p=1.00)       pincus (p=0.99)   \n",
       "Thriller              sark (p=0.99)       gunn (p=0.99)    animorphs (p=0.99)   \n",
       "War          klinkerhoffen (p=0.99)       herr (p=0.99)  smallhausen (p=0.99)   \n",
       "Western               tagg (p=0.99)      posse (p=0.99)       lawman (p=0.98)   \n",
       "\n",
       "                 Feature Rank 7         Feature Rank 8      Feature Rank 9  \\\n",
       "Action            maki (p=1.00)        malory (p=0.99)       sark (p=0.99)   \n",
       "Adult          follies (p=0.00)        follow (p=0.00)   follower (p=0.00)   \n",
       "Adventure        jarod (p=0.99)       adderly (p=0.99)     seefra (p=0.99)   \n",
       "Animation       slappy (p=1.00)          maki (p=1.00)     malory (p=1.00)   \n",
       "Biography    islanders (p=0.98)       mcgowen (p=0.98)  watergate (p=0.98)   \n",
       "Comedy             alf (p=1.00)         navid (p=1.00)       iago (p=1.00)   \n",
       "Crime         autobahn (p=0.99)       penhall (p=0.99)    langton (p=0.99)   \n",
       "Documentary    duggars (p=1.00)          ried (p=1.00)    mcmanus (p=1.00)   \n",
       "Drama         adrianna (p=1.00)        ruthie (p=1.00)      navid (p=1.00)   \n",
       "Family         allegra (p=1.00)        slappy (p=1.00)      cubbi (p=0.99)   \n",
       "Fantasy           gunn (p=0.99)     animorphs (p=0.99)    igthorn (p=0.99)   \n",
       "Game-Show       iseman (p=0.98)         leahy (p=0.98)     kristy (p=0.98)   \n",
       "History           marr (p=0.99)      beatrice (p=0.99)     wolter (p=0.99)   \n",
       "Horror           adana (p=0.98)        impure (p=0.98)    trinity (p=0.98)   \n",
       "Music           kristy (p=0.99)      smithson (p=0.99)  chipmunks (p=0.99)   \n",
       "Musical      squirrels (p=0.97)       minerva (p=0.96)      plotz (p=0.96)   \n",
       "Mystery           japp (p=0.99)        alisha (p=0.99)       cara (p=0.99)   \n",
       "News           taliban (p=0.99)        afghan (p=0.99)    mubarak (p=0.99)   \n",
       "Reality-TV   designers (p=1.00)            sr (p=1.00)        pjd (p=1.00)   \n",
       "Romance           iago (p=1.00)           oli (p=1.00)     hedwig (p=1.00)   \n",
       "Sci-Fi            sark (p=0.99)  commonwealth (p=0.99)    airwolf (p=0.99)   \n",
       "Short         wensinks (p=0.96)      delaneys (p=0.95)      slote (p=0.95)   \n",
       "Sport         kristine (p=0.99)        iseman (p=0.99)      laila (p=0.99)   \n",
       "Talk-Show       langan (p=0.99)           nay (p=0.99)        phd (p=0.99)   \n",
       "Thriller          teri (p=0.99)         irina (p=0.99)    coulson (p=0.99)   \n",
       "War            leclerc (p=0.99)      komansky (p=0.99)        col (p=0.99)   \n",
       "Western       shoreham (p=0.98)           lom (p=0.98)     apache (p=0.98)   \n",
       "\n",
       "                     Feature Rank 10  \n",
       "Action         commonwealth (p=0.99)  \n",
       "Adult             followers (p=0.00)  \n",
       "Adventure           hackers (p=0.99)  \n",
       "Animation            gaston (p=1.00)  \n",
       "Biography              udai (p=0.98)  \n",
       "Comedy                saffy (p=1.00)  \n",
       "Crime            engelhardt (p=0.99)  \n",
       "Documentary        bourdain (p=1.00)  \n",
       "Drama                sloane (p=1.00)  \n",
       "Family                pandy (p=0.99)  \n",
       "Fantasy             keiichi (p=0.99)  \n",
       "Game-Show          smithson (p=0.98)  \n",
       "History             mutamid (p=0.99)  \n",
       "Horror               eunice (p=0.98)  \n",
       "Music                 patty (p=0.99)  \n",
       "Musical      scratchansniff (p=0.96)  \n",
       "Mystery             penhall (p=0.99)  \n",
       "News           prescription (p=0.99)  \n",
       "Reality-TV            eivin (p=1.00)  \n",
       "Romance               nelle (p=1.00)  \n",
       "Sci-Fi                  tyr (p=0.99)  \n",
       "Short              baseline (p=0.94)  \n",
       "Sport          gbajabiamila (p=0.99)  \n",
       "Talk-Show               ric (p=0.99)  \n",
       "Thriller               japp (p=0.99)  \n",
       "War                   laust (p=0.99)  \n",
       "Western              hickok (p=0.98)  "
      ]
     },
     "execution_count": 15,
     "metadata": {},
     "output_type": "execute_result"
    }
   ],
   "source": [
    "df_good"
   ]
  },
  {
   "cell_type": "code",
   "execution_count": 16,
   "metadata": {
    "ExecuteTime": {
     "end_time": "2019-02-25T05:23:37.949372Z",
     "start_time": "2019-02-25T05:23:37.769859Z"
    }
   },
   "outputs": [
    {
     "data": {
      "text/html": [
       "<div>\n",
       "<style scoped>\n",
       "    .dataframe tbody tr th:only-of-type {\n",
       "        vertical-align: middle;\n",
       "    }\n",
       "\n",
       "    .dataframe tbody tr th {\n",
       "        vertical-align: top;\n",
       "    }\n",
       "\n",
       "    .dataframe thead th {\n",
       "        text-align: right;\n",
       "    }\n",
       "</style>\n",
       "<table border=\"1\" class=\"dataframe\">\n",
       "  <thead>\n",
       "    <tr style=\"text-align: right;\">\n",
       "      <th></th>\n",
       "      <th>True Positive</th>\n",
       "      <th>True Negative</th>\n",
       "      <th>Support</th>\n",
       "    </tr>\n",
       "  </thead>\n",
       "  <tbody>\n",
       "    <tr>\n",
       "      <th>Action</th>\n",
       "      <td>0.095</td>\n",
       "      <td>0.987</td>\n",
       "      <td>4321.0</td>\n",
       "    </tr>\n",
       "    <tr>\n",
       "      <th>Adult</th>\n",
       "      <td>0.000</td>\n",
       "      <td>1.000</td>\n",
       "      <td>11.0</td>\n",
       "    </tr>\n",
       "    <tr>\n",
       "      <th>Adventure</th>\n",
       "      <td>0.055</td>\n",
       "      <td>0.996</td>\n",
       "      <td>3496.0</td>\n",
       "    </tr>\n",
       "    <tr>\n",
       "      <th>Animation</th>\n",
       "      <td>0.205</td>\n",
       "      <td>0.988</td>\n",
       "      <td>3333.0</td>\n",
       "    </tr>\n",
       "    <tr>\n",
       "      <th>Biography</th>\n",
       "      <td>0.040</td>\n",
       "      <td>0.997</td>\n",
       "      <td>354.0</td>\n",
       "    </tr>\n",
       "    <tr>\n",
       "      <th>Comedy</th>\n",
       "      <td>0.329</td>\n",
       "      <td>0.864</td>\n",
       "      <td>7320.0</td>\n",
       "    </tr>\n",
       "    <tr>\n",
       "      <th>Crime</th>\n",
       "      <td>0.294</td>\n",
       "      <td>0.966</td>\n",
       "      <td>4453.0</td>\n",
       "    </tr>\n",
       "    <tr>\n",
       "      <th>Documentary</th>\n",
       "      <td>0.575</td>\n",
       "      <td>0.901</td>\n",
       "      <td>1863.0</td>\n",
       "    </tr>\n",
       "    <tr>\n",
       "      <th>Drama</th>\n",
       "      <td>0.490</td>\n",
       "      <td>0.849</td>\n",
       "      <td>11067.0</td>\n",
       "    </tr>\n",
       "    <tr>\n",
       "      <th>Family</th>\n",
       "      <td>0.121</td>\n",
       "      <td>0.983</td>\n",
       "      <td>4173.0</td>\n",
       "    </tr>\n",
       "    <tr>\n",
       "      <th>Fantasy</th>\n",
       "      <td>0.051</td>\n",
       "      <td>0.998</td>\n",
       "      <td>2643.0</td>\n",
       "    </tr>\n",
       "    <tr>\n",
       "      <th>Game-Show</th>\n",
       "      <td>0.107</td>\n",
       "      <td>0.999</td>\n",
       "      <td>450.0</td>\n",
       "    </tr>\n",
       "    <tr>\n",
       "      <th>History</th>\n",
       "      <td>0.164</td>\n",
       "      <td>0.991</td>\n",
       "      <td>623.0</td>\n",
       "    </tr>\n",
       "    <tr>\n",
       "      <th>Horror</th>\n",
       "      <td>0.029</td>\n",
       "      <td>0.999</td>\n",
       "      <td>854.0</td>\n",
       "    </tr>\n",
       "    <tr>\n",
       "      <th>Music</th>\n",
       "      <td>0.064</td>\n",
       "      <td>0.999</td>\n",
       "      <td>654.0</td>\n",
       "    </tr>\n",
       "    <tr>\n",
       "      <th>Musical</th>\n",
       "      <td>0.033</td>\n",
       "      <td>1.000</td>\n",
       "      <td>182.0</td>\n",
       "    </tr>\n",
       "    <tr>\n",
       "      <th>Mystery</th>\n",
       "      <td>0.144</td>\n",
       "      <td>0.972</td>\n",
       "      <td>4114.0</td>\n",
       "    </tr>\n",
       "    <tr>\n",
       "      <th>News</th>\n",
       "      <td>0.396</td>\n",
       "      <td>0.991</td>\n",
       "      <td>681.0</td>\n",
       "    </tr>\n",
       "    <tr>\n",
       "      <th>Reality-TV</th>\n",
       "      <td>0.217</td>\n",
       "      <td>0.988</td>\n",
       "      <td>1748.0</td>\n",
       "    </tr>\n",
       "    <tr>\n",
       "      <th>Romance</th>\n",
       "      <td>0.089</td>\n",
       "      <td>0.985</td>\n",
       "      <td>4581.0</td>\n",
       "    </tr>\n",
       "    <tr>\n",
       "      <th>Sci-Fi</th>\n",
       "      <td>0.128</td>\n",
       "      <td>0.991</td>\n",
       "      <td>3055.0</td>\n",
       "    </tr>\n",
       "    <tr>\n",
       "      <th>Short</th>\n",
       "      <td>0.021</td>\n",
       "      <td>1.000</td>\n",
       "      <td>142.0</td>\n",
       "    </tr>\n",
       "    <tr>\n",
       "      <th>Sport</th>\n",
       "      <td>0.190</td>\n",
       "      <td>0.998</td>\n",
       "      <td>426.0</td>\n",
       "    </tr>\n",
       "    <tr>\n",
       "      <th>Talk-Show</th>\n",
       "      <td>0.036</td>\n",
       "      <td>1.000</td>\n",
       "      <td>809.0</td>\n",
       "    </tr>\n",
       "    <tr>\n",
       "      <th>Thriller</th>\n",
       "      <td>0.108</td>\n",
       "      <td>0.975</td>\n",
       "      <td>3254.0</td>\n",
       "    </tr>\n",
       "    <tr>\n",
       "      <th>War</th>\n",
       "      <td>0.077</td>\n",
       "      <td>1.000</td>\n",
       "      <td>388.0</td>\n",
       "    </tr>\n",
       "    <tr>\n",
       "      <th>Western</th>\n",
       "      <td>0.072</td>\n",
       "      <td>0.999</td>\n",
       "      <td>445.0</td>\n",
       "    </tr>\n",
       "  </tbody>\n",
       "</table>\n",
       "</div>"
      ],
      "text/plain": [
       "             True Positive  True Negative  Support\n",
       "Action               0.095          0.987   4321.0\n",
       "Adult                0.000          1.000     11.0\n",
       "Adventure            0.055          0.996   3496.0\n",
       "Animation            0.205          0.988   3333.0\n",
       "Biography            0.040          0.997    354.0\n",
       "Comedy               0.329          0.864   7320.0\n",
       "Crime                0.294          0.966   4453.0\n",
       "Documentary          0.575          0.901   1863.0\n",
       "Drama                0.490          0.849  11067.0\n",
       "Family               0.121          0.983   4173.0\n",
       "Fantasy              0.051          0.998   2643.0\n",
       "Game-Show            0.107          0.999    450.0\n",
       "History              0.164          0.991    623.0\n",
       "Horror               0.029          0.999    854.0\n",
       "Music                0.064          0.999    654.0\n",
       "Musical              0.033          1.000    182.0\n",
       "Mystery              0.144          0.972   4114.0\n",
       "News                 0.396          0.991    681.0\n",
       "Reality-TV           0.217          0.988   1748.0\n",
       "Romance              0.089          0.985   4581.0\n",
       "Sci-Fi               0.128          0.991   3055.0\n",
       "Short                0.021          1.000    142.0\n",
       "Sport                0.190          0.998    426.0\n",
       "Talk-Show            0.036          1.000    809.0\n",
       "Thriller             0.108          0.975   3254.0\n",
       "War                  0.077          1.000    388.0\n",
       "Western              0.072          0.999    445.0"
      ]
     },
     "execution_count": 16,
     "metadata": {},
     "output_type": "execute_result"
    }
   ],
   "source": [
    "df_result = accuracy(test_y, predictions)\n",
    "df_result"
   ]
  },
  {
   "cell_type": "code",
   "execution_count": 17,
   "metadata": {
    "ExecuteTime": {
     "end_time": "2019-02-25T05:23:37.957353Z",
     "start_time": "2019-02-25T05:23:37.951338Z"
    }
   },
   "outputs": [
    {
     "data": {
      "text/plain": [
       "['clf',\n",
       " 'clf__estimator',\n",
       " 'clf__estimator__alpha',\n",
       " 'clf__estimator__class_prior',\n",
       " 'clf__estimator__fit_prior',\n",
       " 'clf__n_jobs',\n",
       " 'memory',\n",
       " 'steps',\n",
       " 'tfidf',\n",
       " 'tfidf__analyzer',\n",
       " 'tfidf__binary',\n",
       " 'tfidf__decode_error',\n",
       " 'tfidf__dtype',\n",
       " 'tfidf__encoding',\n",
       " 'tfidf__input',\n",
       " 'tfidf__lowercase',\n",
       " 'tfidf__max_df',\n",
       " 'tfidf__max_features',\n",
       " 'tfidf__min_df',\n",
       " 'tfidf__ngram_range',\n",
       " 'tfidf__norm',\n",
       " 'tfidf__preprocessor',\n",
       " 'tfidf__smooth_idf',\n",
       " 'tfidf__stop_words',\n",
       " 'tfidf__strip_accents',\n",
       " 'tfidf__sublinear_tf',\n",
       " 'tfidf__token_pattern',\n",
       " 'tfidf__tokenizer',\n",
       " 'tfidf__use_idf',\n",
       " 'tfidf__vocabulary']"
      ]
     },
     "execution_count": 17,
     "metadata": {},
     "output_type": "execute_result"
    }
   ],
   "source": [
    "sorted(pipeline.get_params().keys())"
   ]
  },
  {
   "cell_type": "code",
   "execution_count": 18,
   "metadata": {
    "ExecuteTime": {
     "end_time": "2019-02-25T05:23:37.983423Z",
     "start_time": "2019-02-25T05:23:37.959359Z"
    }
   },
   "outputs": [
    {
     "data": {
      "text/plain": [
       "(pandas.core.series.Series, pandas.core.frame.DataFrame)"
      ]
     },
     "execution_count": 18,
     "metadata": {},
     "output_type": "execute_result"
    }
   ],
   "source": [
    "type(train_X), type(train_y)"
   ]
  },
  {
   "cell_type": "code",
   "execution_count": 19,
   "metadata": {
    "ExecuteTime": {
     "end_time": "2019-02-25T05:23:38.016511Z",
     "start_time": "2019-02-25T05:23:37.987434Z"
    }
   },
   "outputs": [
    {
     "data": {
      "text/plain": [
       "(5000, 27)"
      ]
     },
     "execution_count": 19,
     "metadata": {},
     "output_type": "execute_result"
    }
   ],
   "source": [
    "train_y.shape"
   ]
  },
  {
   "cell_type": "code",
   "execution_count": null,
   "metadata": {},
   "outputs": [],
   "source": []
  },
  {
   "cell_type": "code",
   "execution_count": null,
   "metadata": {},
   "outputs": [],
   "source": []
  },
  {
   "cell_type": "code",
   "execution_count": null,
   "metadata": {},
   "outputs": [],
   "source": []
  },
  {
   "cell_type": "code",
   "execution_count": null,
   "metadata": {},
   "outputs": [],
   "source": []
  },
  {
   "cell_type": "code",
   "execution_count": null,
   "metadata": {},
   "outputs": [],
   "source": []
  },
  {
   "cell_type": "code",
   "execution_count": null,
   "metadata": {},
   "outputs": [],
   "source": []
  },
  {
   "cell_type": "code",
   "execution_count": null,
   "metadata": {},
   "outputs": [],
   "source": []
  },
  {
   "cell_type": "code",
   "execution_count": null,
   "metadata": {},
   "outputs": [],
   "source": []
  },
  {
   "cell_type": "code",
   "execution_count": null,
   "metadata": {},
   "outputs": [],
   "source": []
  },
  {
   "cell_type": "code",
   "execution_count": null,
   "metadata": {},
   "outputs": [],
   "source": []
  },
  {
   "cell_type": "code",
   "execution_count": null,
   "metadata": {},
   "outputs": [],
   "source": []
  },
  {
   "cell_type": "code",
   "execution_count": null,
   "metadata": {},
   "outputs": [],
   "source": []
  },
  {
   "cell_type": "code",
   "execution_count": null,
   "metadata": {},
   "outputs": [],
   "source": []
  },
  {
   "cell_type": "code",
   "execution_count": null,
   "metadata": {},
   "outputs": [],
   "source": []
  },
  {
   "cell_type": "code",
   "execution_count": null,
   "metadata": {},
   "outputs": [],
   "source": []
  }
 ],
 "metadata": {
  "kernelspec": {
   "display_name": "Python 3",
   "language": "python",
   "name": "python3"
  },
  "language_info": {
   "codemirror_mode": {
    "name": "ipython",
    "version": 3
   },
   "file_extension": ".py",
   "mimetype": "text/x-python",
   "name": "python",
   "nbconvert_exporter": "python",
   "pygments_lexer": "ipython3",
   "version": "3.7.0"
  },
  "toc": {
   "base_numbering": 1,
   "nav_menu": {},
   "number_sections": true,
   "sideBar": true,
   "skip_h1_title": false,
   "title_cell": "Table of Contents",
   "title_sidebar": "Contents",
   "toc_cell": true,
   "toc_position": {
    "height": "calc(100% - 180px)",
    "left": "10px",
    "top": "150px",
    "width": "273px"
   },
   "toc_section_display": true,
   "toc_window_display": true
  }
 },
 "nbformat": 4,
 "nbformat_minor": 2
}
